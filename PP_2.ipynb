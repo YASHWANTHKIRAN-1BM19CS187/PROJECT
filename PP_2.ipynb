{
  "cells": [
    {
      "cell_type": "markdown",
      "metadata": {
        "id": "view-in-github",
        "colab_type": "text"
      },
      "source": [
        "<a href=\"https://colab.research.google.com/github/YASHWANTHKIRAN-1BM19CS187/PROJECT/blob/main/PP_2.ipynb\" target=\"_parent\"><img src=\"https://colab.research.google.com/assets/colab-badge.svg\" alt=\"Open In Colab\"/></a>"
      ]
    },
    {
      "cell_type": "code",
      "execution_count": null,
      "id": "considerable-south",
      "metadata": {
        "execution": {
          "iopub.execute_input": "2021-06-28T12:47:41.975373Z",
          "iopub.status.busy": "2021-06-28T12:47:41.974203Z",
          "iopub.status.idle": "2021-06-28T12:47:42.911312Z",
          "shell.execute_reply": "2021-06-28T12:47:42.911869Z",
          "shell.execute_reply.started": "2021-06-28T12:40:52.367559Z"
        },
        "papermill": {
          "duration": 1.042677,
          "end_time": "2021-06-28T12:47:42.912218",
          "exception": false,
          "start_time": "2021-06-28T12:47:41.869541",
          "status": "completed"
        },
        "tags": [],
        "id": "considerable-south"
      },
      "outputs": [],
      "source": [
        "#@title\n",
        "import numpy as np\n",
        "import pandas as pd\n",
        "import matplotlib.pyplot as plt\n",
        "%matplotlib inline\n",
        "import seaborn as sns\n",
        "\n",
        "# import warnings\n",
        "# warnings.filterwarnings('ignore')"
      ]
    },
    {
      "cell_type": "code",
      "execution_count": null,
      "id": "coated-cream",
      "metadata": {
        "execution": {
          "iopub.execute_input": "2021-06-28T12:47:43.144265Z",
          "iopub.status.busy": "2021-06-28T12:47:43.143247Z",
          "iopub.status.idle": "2021-06-28T12:47:43.168551Z",
          "shell.execute_reply": "2021-06-28T12:47:43.169058Z",
          "shell.execute_reply.started": "2021-06-28T12:40:52.376449Z"
        },
        "papermill": {
          "duration": 0.138916,
          "end_time": "2021-06-28T12:47:43.169263",
          "exception": false,
          "start_time": "2021-06-28T12:47:43.030347",
          "status": "completed"
        },
        "tags": [],
        "id": "coated-cream",
        "colab": {
          "base_uri": "https://localhost:8080/",
          "height": 329
        },
        "outputId": "5ccb17c6-5e03-40e1-dcd4-1b9810c7f9f5"
      },
      "outputs": [
        {
          "output_type": "error",
          "ename": "FileNotFoundError",
          "evalue": "ignored",
          "traceback": [
            "\u001b[0;31m---------------------------------------------------------------------------\u001b[0m",
            "\u001b[0;31mFileNotFoundError\u001b[0m                         Traceback (most recent call last)",
            "\u001b[0;32m<ipython-input-2-5c6a60be070c>\u001b[0m in \u001b[0;36m<cell line: 1>\u001b[0;34m()\u001b[0m\n\u001b[0;32m----> 1\u001b[0;31m \u001b[0mkidney\u001b[0m\u001b[0;34m=\u001b[0m\u001b[0mpd\u001b[0m\u001b[0;34m.\u001b[0m\u001b[0mread_csv\u001b[0m\u001b[0;34m(\u001b[0m\u001b[0;34m'kidney_disease.csv'\u001b[0m\u001b[0;34m)\u001b[0m\u001b[0;34m\u001b[0m\u001b[0;34m\u001b[0m\u001b[0m\n\u001b[0m",
            "\u001b[0;32m/usr/local/lib/python3.10/dist-packages/pandas/util/_decorators.py\u001b[0m in \u001b[0;36mwrapper\u001b[0;34m(*args, **kwargs)\u001b[0m\n\u001b[1;32m    209\u001b[0m                 \u001b[0;32melse\u001b[0m\u001b[0;34m:\u001b[0m\u001b[0;34m\u001b[0m\u001b[0;34m\u001b[0m\u001b[0m\n\u001b[1;32m    210\u001b[0m                     \u001b[0mkwargs\u001b[0m\u001b[0;34m[\u001b[0m\u001b[0mnew_arg_name\u001b[0m\u001b[0;34m]\u001b[0m \u001b[0;34m=\u001b[0m \u001b[0mnew_arg_value\u001b[0m\u001b[0;34m\u001b[0m\u001b[0;34m\u001b[0m\u001b[0m\n\u001b[0;32m--> 211\u001b[0;31m             \u001b[0;32mreturn\u001b[0m \u001b[0mfunc\u001b[0m\u001b[0;34m(\u001b[0m\u001b[0;34m*\u001b[0m\u001b[0margs\u001b[0m\u001b[0;34m,\u001b[0m \u001b[0;34m**\u001b[0m\u001b[0mkwargs\u001b[0m\u001b[0;34m)\u001b[0m\u001b[0;34m\u001b[0m\u001b[0;34m\u001b[0m\u001b[0m\n\u001b[0m\u001b[1;32m    212\u001b[0m \u001b[0;34m\u001b[0m\u001b[0m\n\u001b[1;32m    213\u001b[0m         \u001b[0;32mreturn\u001b[0m \u001b[0mcast\u001b[0m\u001b[0;34m(\u001b[0m\u001b[0mF\u001b[0m\u001b[0;34m,\u001b[0m \u001b[0mwrapper\u001b[0m\u001b[0;34m)\u001b[0m\u001b[0;34m\u001b[0m\u001b[0;34m\u001b[0m\u001b[0m\n",
            "\u001b[0;32m/usr/local/lib/python3.10/dist-packages/pandas/util/_decorators.py\u001b[0m in \u001b[0;36mwrapper\u001b[0;34m(*args, **kwargs)\u001b[0m\n\u001b[1;32m    329\u001b[0m                     \u001b[0mstacklevel\u001b[0m\u001b[0;34m=\u001b[0m\u001b[0mfind_stack_level\u001b[0m\u001b[0;34m(\u001b[0m\u001b[0;34m)\u001b[0m\u001b[0;34m,\u001b[0m\u001b[0;34m\u001b[0m\u001b[0;34m\u001b[0m\u001b[0m\n\u001b[1;32m    330\u001b[0m                 )\n\u001b[0;32m--> 331\u001b[0;31m             \u001b[0;32mreturn\u001b[0m \u001b[0mfunc\u001b[0m\u001b[0;34m(\u001b[0m\u001b[0;34m*\u001b[0m\u001b[0margs\u001b[0m\u001b[0;34m,\u001b[0m \u001b[0;34m**\u001b[0m\u001b[0mkwargs\u001b[0m\u001b[0;34m)\u001b[0m\u001b[0;34m\u001b[0m\u001b[0;34m\u001b[0m\u001b[0m\n\u001b[0m\u001b[1;32m    332\u001b[0m \u001b[0;34m\u001b[0m\u001b[0m\n\u001b[1;32m    333\u001b[0m         \u001b[0;31m# error: \"Callable[[VarArg(Any), KwArg(Any)], Any]\" has no\u001b[0m\u001b[0;34m\u001b[0m\u001b[0;34m\u001b[0m\u001b[0m\n",
            "\u001b[0;32m/usr/local/lib/python3.10/dist-packages/pandas/io/parsers/readers.py\u001b[0m in \u001b[0;36mread_csv\u001b[0;34m(filepath_or_buffer, sep, delimiter, header, names, index_col, usecols, squeeze, prefix, mangle_dupe_cols, dtype, engine, converters, true_values, false_values, skipinitialspace, skiprows, skipfooter, nrows, na_values, keep_default_na, na_filter, verbose, skip_blank_lines, parse_dates, infer_datetime_format, keep_date_col, date_parser, dayfirst, cache_dates, iterator, chunksize, compression, thousands, decimal, lineterminator, quotechar, quoting, doublequote, escapechar, comment, encoding, encoding_errors, dialect, error_bad_lines, warn_bad_lines, on_bad_lines, delim_whitespace, low_memory, memory_map, float_precision, storage_options)\u001b[0m\n\u001b[1;32m    948\u001b[0m     \u001b[0mkwds\u001b[0m\u001b[0;34m.\u001b[0m\u001b[0mupdate\u001b[0m\u001b[0;34m(\u001b[0m\u001b[0mkwds_defaults\u001b[0m\u001b[0;34m)\u001b[0m\u001b[0;34m\u001b[0m\u001b[0;34m\u001b[0m\u001b[0m\n\u001b[1;32m    949\u001b[0m \u001b[0;34m\u001b[0m\u001b[0m\n\u001b[0;32m--> 950\u001b[0;31m     \u001b[0;32mreturn\u001b[0m \u001b[0m_read\u001b[0m\u001b[0;34m(\u001b[0m\u001b[0mfilepath_or_buffer\u001b[0m\u001b[0;34m,\u001b[0m \u001b[0mkwds\u001b[0m\u001b[0;34m)\u001b[0m\u001b[0;34m\u001b[0m\u001b[0;34m\u001b[0m\u001b[0m\n\u001b[0m\u001b[1;32m    951\u001b[0m \u001b[0;34m\u001b[0m\u001b[0m\n\u001b[1;32m    952\u001b[0m \u001b[0;34m\u001b[0m\u001b[0m\n",
            "\u001b[0;32m/usr/local/lib/python3.10/dist-packages/pandas/io/parsers/readers.py\u001b[0m in \u001b[0;36m_read\u001b[0;34m(filepath_or_buffer, kwds)\u001b[0m\n\u001b[1;32m    603\u001b[0m \u001b[0;34m\u001b[0m\u001b[0m\n\u001b[1;32m    604\u001b[0m     \u001b[0;31m# Create the parser.\u001b[0m\u001b[0;34m\u001b[0m\u001b[0;34m\u001b[0m\u001b[0m\n\u001b[0;32m--> 605\u001b[0;31m     \u001b[0mparser\u001b[0m \u001b[0;34m=\u001b[0m \u001b[0mTextFileReader\u001b[0m\u001b[0;34m(\u001b[0m\u001b[0mfilepath_or_buffer\u001b[0m\u001b[0;34m,\u001b[0m \u001b[0;34m**\u001b[0m\u001b[0mkwds\u001b[0m\u001b[0;34m)\u001b[0m\u001b[0;34m\u001b[0m\u001b[0;34m\u001b[0m\u001b[0m\n\u001b[0m\u001b[1;32m    606\u001b[0m \u001b[0;34m\u001b[0m\u001b[0m\n\u001b[1;32m    607\u001b[0m     \u001b[0;32mif\u001b[0m \u001b[0mchunksize\u001b[0m \u001b[0;32mor\u001b[0m \u001b[0miterator\u001b[0m\u001b[0;34m:\u001b[0m\u001b[0;34m\u001b[0m\u001b[0;34m\u001b[0m\u001b[0m\n",
            "\u001b[0;32m/usr/local/lib/python3.10/dist-packages/pandas/io/parsers/readers.py\u001b[0m in \u001b[0;36m__init__\u001b[0;34m(self, f, engine, **kwds)\u001b[0m\n\u001b[1;32m   1440\u001b[0m \u001b[0;34m\u001b[0m\u001b[0m\n\u001b[1;32m   1441\u001b[0m         \u001b[0mself\u001b[0m\u001b[0;34m.\u001b[0m\u001b[0mhandles\u001b[0m\u001b[0;34m:\u001b[0m \u001b[0mIOHandles\u001b[0m \u001b[0;34m|\u001b[0m \u001b[0;32mNone\u001b[0m \u001b[0;34m=\u001b[0m \u001b[0;32mNone\u001b[0m\u001b[0;34m\u001b[0m\u001b[0;34m\u001b[0m\u001b[0m\n\u001b[0;32m-> 1442\u001b[0;31m         \u001b[0mself\u001b[0m\u001b[0;34m.\u001b[0m\u001b[0m_engine\u001b[0m \u001b[0;34m=\u001b[0m \u001b[0mself\u001b[0m\u001b[0;34m.\u001b[0m\u001b[0m_make_engine\u001b[0m\u001b[0;34m(\u001b[0m\u001b[0mf\u001b[0m\u001b[0;34m,\u001b[0m \u001b[0mself\u001b[0m\u001b[0;34m.\u001b[0m\u001b[0mengine\u001b[0m\u001b[0;34m)\u001b[0m\u001b[0;34m\u001b[0m\u001b[0;34m\u001b[0m\u001b[0m\n\u001b[0m\u001b[1;32m   1443\u001b[0m \u001b[0;34m\u001b[0m\u001b[0m\n\u001b[1;32m   1444\u001b[0m     \u001b[0;32mdef\u001b[0m \u001b[0mclose\u001b[0m\u001b[0;34m(\u001b[0m\u001b[0mself\u001b[0m\u001b[0;34m)\u001b[0m \u001b[0;34m->\u001b[0m \u001b[0;32mNone\u001b[0m\u001b[0;34m:\u001b[0m\u001b[0;34m\u001b[0m\u001b[0;34m\u001b[0m\u001b[0m\n",
            "\u001b[0;32m/usr/local/lib/python3.10/dist-packages/pandas/io/parsers/readers.py\u001b[0m in \u001b[0;36m_make_engine\u001b[0;34m(self, f, engine)\u001b[0m\n\u001b[1;32m   1733\u001b[0m                 \u001b[0;32mif\u001b[0m \u001b[0;34m\"b\"\u001b[0m \u001b[0;32mnot\u001b[0m \u001b[0;32min\u001b[0m \u001b[0mmode\u001b[0m\u001b[0;34m:\u001b[0m\u001b[0;34m\u001b[0m\u001b[0;34m\u001b[0m\u001b[0m\n\u001b[1;32m   1734\u001b[0m                     \u001b[0mmode\u001b[0m \u001b[0;34m+=\u001b[0m \u001b[0;34m\"b\"\u001b[0m\u001b[0;34m\u001b[0m\u001b[0;34m\u001b[0m\u001b[0m\n\u001b[0;32m-> 1735\u001b[0;31m             self.handles = get_handle(\n\u001b[0m\u001b[1;32m   1736\u001b[0m                 \u001b[0mf\u001b[0m\u001b[0;34m,\u001b[0m\u001b[0;34m\u001b[0m\u001b[0;34m\u001b[0m\u001b[0m\n\u001b[1;32m   1737\u001b[0m                 \u001b[0mmode\u001b[0m\u001b[0;34m,\u001b[0m\u001b[0;34m\u001b[0m\u001b[0;34m\u001b[0m\u001b[0m\n",
            "\u001b[0;32m/usr/local/lib/python3.10/dist-packages/pandas/io/common.py\u001b[0m in \u001b[0;36mget_handle\u001b[0;34m(path_or_buf, mode, encoding, compression, memory_map, is_text, errors, storage_options)\u001b[0m\n\u001b[1;32m    854\u001b[0m         \u001b[0;32mif\u001b[0m \u001b[0mioargs\u001b[0m\u001b[0;34m.\u001b[0m\u001b[0mencoding\u001b[0m \u001b[0;32mand\u001b[0m \u001b[0;34m\"b\"\u001b[0m \u001b[0;32mnot\u001b[0m \u001b[0;32min\u001b[0m \u001b[0mioargs\u001b[0m\u001b[0;34m.\u001b[0m\u001b[0mmode\u001b[0m\u001b[0;34m:\u001b[0m\u001b[0;34m\u001b[0m\u001b[0;34m\u001b[0m\u001b[0m\n\u001b[1;32m    855\u001b[0m             \u001b[0;31m# Encoding\u001b[0m\u001b[0;34m\u001b[0m\u001b[0;34m\u001b[0m\u001b[0m\n\u001b[0;32m--> 856\u001b[0;31m             handle = open(\n\u001b[0m\u001b[1;32m    857\u001b[0m                 \u001b[0mhandle\u001b[0m\u001b[0;34m,\u001b[0m\u001b[0;34m\u001b[0m\u001b[0;34m\u001b[0m\u001b[0m\n\u001b[1;32m    858\u001b[0m                 \u001b[0mioargs\u001b[0m\u001b[0;34m.\u001b[0m\u001b[0mmode\u001b[0m\u001b[0;34m,\u001b[0m\u001b[0;34m\u001b[0m\u001b[0;34m\u001b[0m\u001b[0m\n",
            "\u001b[0;31mFileNotFoundError\u001b[0m: [Errno 2] No such file or directory: 'kidney_disease.csv'"
          ]
        }
      ],
      "source": [
        "kidney=pd.read_csv('kidney_disease.csv')"
      ]
    },
    {
      "cell_type": "code",
      "execution_count": null,
      "id": "4c3532b3",
      "metadata": {
        "id": "4c3532b3"
      },
      "outputs": [],
      "source": [
        "kidney.shape"
      ]
    },
    {
      "cell_type": "code",
      "execution_count": null,
      "id": "accomplished-conclusion",
      "metadata": {
        "execution": {
          "iopub.execute_input": "2021-06-28T12:47:43.376447Z",
          "iopub.status.busy": "2021-06-28T12:47:43.375813Z",
          "iopub.status.idle": "2021-06-28T12:47:43.438320Z",
          "shell.execute_reply": "2021-06-28T12:47:43.439118Z",
          "shell.execute_reply.started": "2021-06-28T12:40:52.401905Z"
        },
        "papermill": {
          "duration": 0.166253,
          "end_time": "2021-06-28T12:47:43.439384",
          "exception": false,
          "start_time": "2021-06-28T12:47:43.273131",
          "status": "completed"
        },
        "tags": [],
        "id": "accomplished-conclusion"
      },
      "outputs": [],
      "source": [
        "kidney.head()"
      ]
    },
    {
      "cell_type": "code",
      "execution_count": null,
      "id": "viral-remedy",
      "metadata": {
        "execution": {
          "iopub.execute_input": "2021-06-28T12:47:43.655238Z",
          "iopub.status.busy": "2021-06-28T12:47:43.654581Z",
          "iopub.status.idle": "2021-06-28T12:47:43.677506Z",
          "shell.execute_reply": "2021-06-28T12:47:43.678069Z",
          "shell.execute_reply.started": "2021-06-28T12:40:52.435560Z"
        },
        "papermill": {
          "duration": 0.127956,
          "end_time": "2021-06-28T12:47:43.678253",
          "exception": false,
          "start_time": "2021-06-28T12:47:43.550297",
          "status": "completed"
        },
        "tags": [],
        "id": "viral-remedy"
      },
      "outputs": [],
      "source": [
        "kidney.info()"
      ]
    },
    {
      "cell_type": "code",
      "execution_count": null,
      "id": "sunset-dover",
      "metadata": {
        "execution": {
          "iopub.execute_input": "2021-06-28T12:47:44.561945Z",
          "iopub.status.busy": "2021-06-28T12:47:44.561267Z",
          "iopub.status.idle": "2021-06-28T12:47:44.566296Z",
          "shell.execute_reply": "2021-06-28T12:47:44.565756Z",
          "shell.execute_reply.started": "2021-06-28T12:40:52.519804Z"
        },
        "papermill": {
          "duration": 0.136747,
          "end_time": "2021-06-28T12:47:44.566446",
          "exception": false,
          "start_time": "2021-06-28T12:47:44.429699",
          "status": "completed"
        },
        "scrolled": true,
        "tags": [],
        "id": "sunset-dover"
      },
      "outputs": [],
      "source": [
        "kidney.head()"
      ]
    },
    {
      "cell_type": "code",
      "execution_count": null,
      "id": "cutting-default",
      "metadata": {
        "execution": {
          "iopub.execute_input": "2021-06-28T12:47:45.272502Z",
          "iopub.status.busy": "2021-06-28T12:47:45.271507Z",
          "iopub.status.idle": "2021-06-28T12:47:45.317996Z",
          "shell.execute_reply": "2021-06-28T12:47:45.317442Z",
          "shell.execute_reply.started": "2021-06-28T12:40:52.613650Z"
        },
        "papermill": {
          "duration": 0.157958,
          "end_time": "2021-06-28T12:47:45.318151",
          "exception": false,
          "start_time": "2021-06-28T12:47:45.160193",
          "status": "completed"
        },
        "tags": [],
        "id": "cutting-default"
      },
      "outputs": [],
      "source": [
        "kidney.describe().T"
      ]
    },
    {
      "cell_type": "code",
      "execution_count": null,
      "id": "modified-anthony",
      "metadata": {
        "execution": {
          "iopub.execute_input": "2021-06-28T12:47:45.531735Z",
          "iopub.status.busy": "2021-06-28T12:47:45.530692Z",
          "iopub.status.idle": "2021-06-28T12:47:45.533266Z",
          "shell.execute_reply": "2021-06-28T12:47:45.533783Z",
          "shell.execute_reply.started": "2021-06-28T12:40:52.675627Z"
        },
        "papermill": {
          "duration": 0.113016,
          "end_time": "2021-06-28T12:47:45.533977",
          "exception": false,
          "start_time": "2021-06-28T12:47:45.420961",
          "status": "completed"
        },
        "tags": [],
        "id": "modified-anthony"
      },
      "outputs": [],
      "source": [
        "def convert_dtype(kidney,feature):\n",
        "    kidney[feature]=pd.to_numeric(kidney[feature],errors='coerce')    #whereever we have Nan values , this errors parameter will hanfle that "
      ]
    },
    {
      "cell_type": "code",
      "execution_count": null,
      "id": "interracial-brisbane",
      "metadata": {
        "execution": {
          "iopub.execute_input": "2021-06-28T12:47:45.742372Z",
          "iopub.status.busy": "2021-06-28T12:47:45.741686Z",
          "iopub.status.idle": "2021-06-28T12:47:45.747841Z",
          "shell.execute_reply": "2021-06-28T12:47:45.748320Z",
          "shell.execute_reply.started": "2021-06-28T12:40:52.682800Z"
        },
        "papermill": {
          "duration": 0.111901,
          "end_time": "2021-06-28T12:47:45.748512",
          "exception": false,
          "start_time": "2021-06-28T12:47:45.636611",
          "status": "completed"
        },
        "tags": [],
        "id": "interracial-brisbane"
      },
      "outputs": [],
      "source": [
        "features=['pcv','wc','rc']\n",
        "for i in features:\n",
        "    convert_dtype(kidney,i)"
      ]
    },
    {
      "cell_type": "code",
      "execution_count": null,
      "id": "outer-method",
      "metadata": {
        "execution": {
          "iopub.execute_input": "2021-06-28T12:47:45.960418Z",
          "iopub.status.busy": "2021-06-28T12:47:45.959783Z",
          "iopub.status.idle": "2021-06-28T12:47:45.966853Z",
          "shell.execute_reply": "2021-06-28T12:47:45.967363Z",
          "shell.execute_reply.started": "2021-06-28T12:40:52.698053Z"
        },
        "papermill": {
          "duration": 0.1138,
          "end_time": "2021-06-28T12:47:45.967544",
          "exception": false,
          "start_time": "2021-06-28T12:47:45.853744",
          "status": "completed"
        },
        "tags": [],
        "id": "outer-method"
      },
      "outputs": [],
      "source": [
        "kidney.dtypes"
      ]
    },
    {
      "cell_type": "code",
      "execution_count": null,
      "id": "empty-floating",
      "metadata": {
        "execution": {
          "iopub.execute_input": "2021-06-28T12:48:15.716677Z",
          "iopub.status.busy": "2021-06-28T12:48:15.715684Z",
          "iopub.status.idle": "2021-06-28T12:48:15.729124Z",
          "shell.execute_reply": "2021-06-28T12:48:15.728560Z",
          "shell.execute_reply.started": "2021-06-28T12:41:03.620819Z"
        },
        "papermill": {
          "duration": 0.160115,
          "end_time": "2021-06-28T12:48:15.729274",
          "exception": false,
          "start_time": "2021-06-28T12:48:15.569159",
          "status": "completed"
        },
        "tags": [],
        "id": "empty-floating"
      },
      "outputs": [],
      "source": [
        "for col in cat_col:\n",
        "    print('{} has {} categories'.format(col,kidney[col].nunique()))"
      ]
    },
    {
      "cell_type": "code",
      "execution_count": null,
      "id": "upper-voluntary",
      "metadata": {
        "execution": {
          "iopub.execute_input": "2021-06-28T12:47:46.182803Z",
          "iopub.status.busy": "2021-06-28T12:47:46.182159Z",
          "iopub.status.idle": "2021-06-28T12:47:46.187437Z",
          "shell.execute_reply": "2021-06-28T12:47:46.187991Z",
          "shell.execute_reply.started": "2021-06-28T12:40:52.712183Z"
        },
        "papermill": {
          "duration": 0.114497,
          "end_time": "2021-06-28T12:47:46.188176",
          "exception": false,
          "start_time": "2021-06-28T12:47:46.073679",
          "status": "completed"
        },
        "tags": [],
        "id": "upper-voluntary"
      },
      "outputs": [],
      "source": [
        "kidney.drop('id',inplace=True,axis=1)"
      ]
    },
    {
      "cell_type": "code",
      "execution_count": null,
      "id": "controversial-spirit",
      "metadata": {
        "execution": {
          "iopub.execute_input": "2021-06-28T12:47:46.617785Z",
          "iopub.status.busy": "2021-06-28T12:47:46.617108Z",
          "iopub.status.idle": "2021-06-28T12:47:46.623765Z",
          "shell.execute_reply": "2021-06-28T12:47:46.623197Z",
          "shell.execute_reply.started": "2021-06-28T12:40:52.725178Z"
        },
        "papermill": {
          "duration": 0.112815,
          "end_time": "2021-06-28T12:47:46.623927",
          "exception": false,
          "start_time": "2021-06-28T12:47:46.511112",
          "status": "completed"
        },
        "tags": [],
        "id": "controversial-spirit"
      },
      "outputs": [],
      "source": [
        "def extract_cat_num(kidney):\n",
        "    cat_col=[col for col in kidney.columns if kidney[col].dtype=='O']\n",
        "    num_col=[col for col in kidney.columns if kidney[col].dtype!='O']\n",
        "    return cat_col,num_col"
      ]
    },
    {
      "cell_type": "code",
      "source": [],
      "metadata": {
        "id": "xtS3XKpo-NcA"
      },
      "id": "xtS3XKpo-NcA",
      "execution_count": null,
      "outputs": []
    },
    {
      "cell_type": "code",
      "execution_count": null,
      "id": "chubby-cargo",
      "metadata": {
        "execution": {
          "iopub.execute_input": "2021-06-28T12:47:46.836771Z",
          "iopub.status.busy": "2021-06-28T12:47:46.835787Z",
          "iopub.status.idle": "2021-06-28T12:47:46.839164Z",
          "shell.execute_reply": "2021-06-28T12:47:46.838497Z",
          "shell.execute_reply.started": "2021-06-28T12:40:52.736638Z"
        },
        "papermill": {
          "duration": 0.111976,
          "end_time": "2021-06-28T12:47:46.839308",
          "exception": false,
          "start_time": "2021-06-28T12:47:46.727332",
          "status": "completed"
        },
        "tags": [],
        "id": "chubby-cargo"
      },
      "outputs": [],
      "source": [
        "cat_col,num_col=extract_cat_num(kidney)"
      ]
    },
    {
      "cell_type": "code",
      "execution_count": null,
      "id": "focal-submission",
      "metadata": {
        "execution": {
          "iopub.execute_input": "2021-06-28T12:47:47.056320Z",
          "iopub.status.busy": "2021-06-28T12:47:47.055342Z",
          "iopub.status.idle": "2021-06-28T12:47:47.059878Z",
          "shell.execute_reply": "2021-06-28T12:47:47.059286Z",
          "shell.execute_reply.started": "2021-06-28T12:40:52.750607Z"
        },
        "papermill": {
          "duration": 0.116518,
          "end_time": "2021-06-28T12:47:47.060039",
          "exception": false,
          "start_time": "2021-06-28T12:47:46.943521",
          "status": "completed"
        },
        "tags": [],
        "id": "focal-submission"
      },
      "outputs": [],
      "source": [
        "cat_col"
      ]
    },
    {
      "cell_type": "code",
      "execution_count": null,
      "id": "printable-handling",
      "metadata": {
        "execution": {
          "iopub.execute_input": "2021-06-28T12:47:47.270800Z",
          "iopub.status.busy": "2021-06-28T12:47:47.270183Z",
          "iopub.status.idle": "2021-06-28T12:47:47.274992Z",
          "shell.execute_reply": "2021-06-28T12:47:47.275637Z",
          "shell.execute_reply.started": "2021-06-28T12:40:52.765425Z"
        },
        "papermill": {
          "duration": 0.111855,
          "end_time": "2021-06-28T12:47:47.275814",
          "exception": false,
          "start_time": "2021-06-28T12:47:47.163959",
          "status": "completed"
        },
        "tags": [],
        "id": "printable-handling"
      },
      "outputs": [],
      "source": [
        "num_col"
      ]
    },
    {
      "cell_type": "code",
      "execution_count": null,
      "id": "unknown-ocean",
      "metadata": {
        "execution": {
          "iopub.execute_input": "2021-06-28T12:47:47.487515Z",
          "iopub.status.busy": "2021-06-28T12:47:47.486900Z",
          "iopub.status.idle": "2021-06-28T12:47:47.498174Z",
          "shell.execute_reply": "2021-06-28T12:47:47.498846Z",
          "shell.execute_reply.started": "2021-06-28T12:40:52.781691Z"
        },
        "papermill": {
          "duration": 0.119482,
          "end_time": "2021-06-28T12:47:47.499036",
          "exception": false,
          "start_time": "2021-06-28T12:47:47.379554",
          "status": "completed"
        },
        "tags": [],
        "id": "unknown-ocean"
      },
      "outputs": [],
      "source": [
        "# dirtiness in categorical data\n",
        "for col in cat_col:\n",
        "    print('{} has {} values'.format(col,kidney[col].unique()))\n",
        "    print(\"\\n\")"
      ]
    },
    {
      "cell_type": "code",
      "execution_count": null,
      "id": "insured-schedule",
      "metadata": {
        "execution": {
          "iopub.execute_input": "2021-06-28T12:47:47.710432Z",
          "iopub.status.busy": "2021-06-28T12:47:47.709795Z",
          "iopub.status.idle": "2021-06-28T12:47:47.717123Z",
          "shell.execute_reply": "2021-06-28T12:47:47.717633Z",
          "shell.execute_reply.started": "2021-06-28T12:40:52.803018Z"
        },
        "papermill": {
          "duration": 0.115113,
          "end_time": "2021-06-28T12:47:47.717843",
          "exception": false,
          "start_time": "2021-06-28T12:47:47.602730",
          "status": "completed"
        },
        "tags": [],
        "id": "insured-schedule"
      },
      "outputs": [],
      "source": [
        "kidney['dm'].replace(to_replace={'\\tno':'no','\\tyes':'yes'},inplace=True)\n",
        "kidney['cad'].replace(to_replace={'\\tno':'no'},inplace=True)\n",
        "kidney['classification'].replace(to_replace={'ckd\\t':'ckd'},inplace=True)"
      ]
    },
    {
      "cell_type": "code",
      "execution_count": null,
      "id": "least-holder",
      "metadata": {
        "execution": {
          "iopub.execute_input": "2021-06-28T12:47:47.931236Z",
          "iopub.status.busy": "2021-06-28T12:47:47.930593Z",
          "iopub.status.idle": "2021-06-28T12:47:47.942536Z",
          "shell.execute_reply": "2021-06-28T12:47:47.941980Z",
          "shell.execute_reply.started": "2021-06-28T12:40:52.826434Z"
        },
        "papermill": {
          "duration": 0.119719,
          "end_time": "2021-06-28T12:47:47.942687",
          "exception": false,
          "start_time": "2021-06-28T12:47:47.822968",
          "status": "completed"
        },
        "tags": [],
        "id": "least-holder"
      },
      "outputs": [],
      "source": [
        "# no dirtiness\n",
        "for col in cat_col:\n",
        "    print('{} has {} values'.format(col,kidney[col].unique()))\n",
        "    print(\"\\n\")"
      ]
    },
    {
      "cell_type": "code",
      "execution_count": null,
      "id": "weighted-royalty",
      "metadata": {
        "execution": {
          "iopub.execute_input": "2021-06-28T12:47:48.622205Z",
          "iopub.status.busy": "2021-06-28T12:47:48.621180Z",
          "iopub.status.idle": "2021-06-28T12:47:48.624997Z",
          "shell.execute_reply": "2021-06-28T12:47:48.625756Z",
          "shell.execute_reply.started": "2021-06-28T12:40:52.852460Z"
        },
        "papermill": {
          "duration": 0.140242,
          "end_time": "2021-06-28T12:47:48.626034",
          "exception": false,
          "start_time": "2021-06-28T12:47:48.485792",
          "status": "completed"
        },
        "tags": [],
        "id": "weighted-royalty"
      },
      "outputs": [],
      "source": [
        "len(num_col)"
      ]
    },
    {
      "cell_type": "code",
      "execution_count": null,
      "id": "separated-accessory",
      "metadata": {
        "execution": {
          "iopub.execute_input": "2021-06-28T12:47:48.867281Z",
          "iopub.status.busy": "2021-06-28T12:47:48.866571Z",
          "iopub.status.idle": "2021-06-28T12:47:51.420567Z",
          "shell.execute_reply": "2021-06-28T12:47:51.421119Z",
          "shell.execute_reply.started": "2021-06-28T12:40:52.865219Z"
        },
        "papermill": {
          "duration": 2.669254,
          "end_time": "2021-06-28T12:47:51.421305",
          "exception": false,
          "start_time": "2021-06-28T12:47:48.752051",
          "status": "completed"
        },
        "tags": [],
        "id": "separated-accessory"
      },
      "outputs": [],
      "source": [
        "plt.figure(figsize=(30,30))\n",
        "for i,feature in enumerate(num_col):\n",
        "    plt.subplot(5,3,i+1)   # 5 rows and 3 columns        \n",
        "    kidney[feature].hist()\n",
        "    plt.title(feature)"
      ]
    },
    {
      "cell_type": "code",
      "execution_count": null,
      "id": "static-warning",
      "metadata": {
        "execution": {
          "iopub.execute_input": "2021-06-28T12:47:51.862060Z",
          "iopub.status.busy": "2021-06-28T12:47:51.861061Z",
          "iopub.status.idle": "2021-06-28T12:47:51.866453Z",
          "shell.execute_reply": "2021-06-28T12:47:51.866934Z",
          "shell.execute_reply.started": "2021-06-28T12:40:55.248080Z"
        },
        "papermill": {
          "duration": 0.116452,
          "end_time": "2021-06-28T12:47:51.867117",
          "exception": false,
          "start_time": "2021-06-28T12:47:51.750665",
          "status": "completed"
        },
        "tags": [],
        "id": "static-warning"
      },
      "outputs": [],
      "source": [
        "len(cat_col)"
      ]
    },
    {
      "cell_type": "code",
      "execution_count": null,
      "id": "studied-corrections",
      "metadata": {
        "execution": {
          "iopub.execute_input": "2021-06-28T12:47:52.093787Z",
          "iopub.status.busy": "2021-06-28T12:47:52.092691Z",
          "iopub.status.idle": "2021-06-28T12:47:53.425704Z",
          "shell.execute_reply": "2021-06-28T12:47:53.426182Z",
          "shell.execute_reply.started": "2021-06-28T12:40:55.256065Z"
        },
        "papermill": {
          "duration": 1.450356,
          "end_time": "2021-06-28T12:47:53.426366",
          "exception": false,
          "start_time": "2021-06-28T12:47:51.976010",
          "status": "completed"
        },
        "tags": [],
        "id": "studied-corrections"
      },
      "outputs": [],
      "source": [
        "plt.figure(figsize=(20,20))\n",
        "\n",
        "for i,feature in enumerate(cat_col):\n",
        "    plt.subplot(4,3,i+1)\n",
        "    sns.countplot(x=kidney[feature], data=kidney)"
      ]
    },
    {
      "cell_type": "code",
      "execution_count": null,
      "id": "weird-array",
      "metadata": {
        "execution": {
          "iopub.execute_input": "2021-06-28T12:47:53.880978Z",
          "iopub.status.busy": "2021-06-28T12:47:53.879988Z",
          "iopub.status.idle": "2021-06-28T12:47:55.450330Z",
          "shell.execute_reply": "2021-06-28T12:47:55.449778Z",
          "shell.execute_reply.started": "2021-06-28T12:40:56.505983Z"
        },
        "papermill": {
          "duration": 1.68435,
          "end_time": "2021-06-28T12:47:55.450471",
          "exception": false,
          "start_time": "2021-06-28T12:47:53.766121",
          "status": "completed"
        },
        "tags": [],
        "id": "weird-array"
      },
      "outputs": [],
      "source": [
        "plt.figure(figsize=(20,20))\n",
        "\n",
        "for i,feature in enumerate(cat_col):\n",
        "    plt.subplot(4,3,i+1)\n",
        "    sns.countplot(x=kidney[feature],hue=kidney['classification'],data=kidney)"
      ]
    },
    {
      "cell_type": "code",
      "execution_count": null,
      "id": "institutional-meditation",
      "metadata": {
        "execution": {
          "iopub.execute_input": "2021-06-28T12:47:55.691153Z",
          "iopub.status.busy": "2021-06-28T12:47:55.690117Z",
          "iopub.status.idle": "2021-06-28T12:47:55.795488Z",
          "shell.execute_reply": "2021-06-28T12:47:55.794826Z",
          "shell.execute_reply.started": "2021-06-28T12:40:57.980822Z"
        },
        "papermill": {
          "duration": 0.232744,
          "end_time": "2021-06-28T12:47:55.795633",
          "exception": false,
          "start_time": "2021-06-28T12:47:55.562889",
          "status": "completed"
        },
        "tags": [],
        "id": "institutional-meditation"
      },
      "outputs": [],
      "source": [
        "sns.countplot(x=kidney['classification'],data=kidney)"
      ]
    },
    {
      "cell_type": "code",
      "execution_count": null,
      "id": "flying-landscape",
      "metadata": {
        "execution": {
          "iopub.execute_input": "2021-06-28T12:47:56.282764Z",
          "iopub.status.busy": "2021-06-28T12:47:56.281757Z",
          "iopub.status.idle": "2021-06-28T12:47:56.309741Z",
          "shell.execute_reply": "2021-06-28T12:47:56.310245Z",
          "shell.execute_reply.started": "2021-06-28T12:40:58.114410Z"
        },
        "papermill": {
          "duration": 0.147944,
          "end_time": "2021-06-28T12:47:56.310414",
          "exception": false,
          "start_time": "2021-06-28T12:47:56.162470",
          "status": "completed"
        },
        "tags": [],
        "id": "flying-landscape"
      },
      "outputs": [],
      "source": [
        "kidney.corr()"
      ]
    },
    {
      "cell_type": "code",
      "execution_count": null,
      "id": "approved-joyce",
      "metadata": {
        "execution": {
          "iopub.execute_input": "2021-06-28T12:47:56.552052Z",
          "iopub.status.busy": "2021-06-28T12:47:56.551335Z",
          "iopub.status.idle": "2021-06-28T12:47:57.829466Z",
          "shell.execute_reply": "2021-06-28T12:47:57.828941Z",
          "shell.execute_reply.started": "2021-06-28T12:40:58.145237Z"
        },
        "papermill": {
          "duration": 1.403103,
          "end_time": "2021-06-28T12:47:57.829611",
          "exception": false,
          "start_time": "2021-06-28T12:47:56.426508",
          "status": "completed"
        },
        "tags": [],
        "id": "approved-joyce"
      },
      "outputs": [],
      "source": [
        "plt.figure(figsize=(13,13))\n",
        "sns.heatmap(kidney.corr(method='pearson'),cbar=True,cmap='BuPu',annot=True)"
      ]
    },
    {
      "cell_type": "code",
      "execution_count": null,
      "id": "cubic-welsh",
      "metadata": {
        "execution": {
          "iopub.execute_input": "2021-06-28T12:47:58.333372Z",
          "iopub.status.busy": "2021-06-28T12:47:58.332643Z",
          "iopub.status.idle": "2021-06-28T12:47:58.336922Z",
          "shell.execute_reply": "2021-06-28T12:47:58.336303Z",
          "shell.execute_reply.started": "2021-06-28T12:40:59.481196Z"
        },
        "papermill": {
          "duration": 0.150756,
          "end_time": "2021-06-28T12:47:58.337067",
          "exception": false,
          "start_time": "2021-06-28T12:47:58.186311",
          "status": "completed"
        },
        "tags": [],
        "id": "cubic-welsh"
      },
      "outputs": [],
      "source": [
        "kidney.groupby(['rbc','classification'])['rc'].agg(['count','mean','median','min','max'])"
      ]
    },
    {
      "cell_type": "code",
      "execution_count": null,
      "id": "upset-building",
      "metadata": {
        "execution": {
          "iopub.execute_input": "2021-06-28T12:47:59.223962Z",
          "iopub.status.busy": "2021-06-28T12:47:59.222327Z",
          "iopub.status.idle": "2021-06-28T12:47:59.405746Z",
          "shell.execute_reply": "2021-06-28T12:47:59.405176Z",
          "shell.execute_reply.started": "2021-06-28T12:40:59.518604Z"
        },
        "papermill": {
          "duration": 0.476823,
          "end_time": "2021-06-28T12:47:59.405899",
          "exception": false,
          "start_time": "2021-06-28T12:47:58.929076",
          "status": "completed"
        },
        "tags": [],
        "id": "upset-building"
      },
      "outputs": [],
      "source": [
        "plt.figure(figsize=(10,10))\n",
        "plt.scatter(x=kidney.hemo,y=kidney['pcv'])\n",
        "plt.xlabel('Haemoglobin')\n",
        "plt.ylabel('packed cell volume')\n",
        "plt.title('Relationship between haemoglobin and packed cell volume')\n"
      ]
    },
    {
      "cell_type": "code",
      "execution_count": null,
      "id": "motivated-master",
      "metadata": {
        "execution": {
          "iopub.execute_input": "2021-06-28T12:48:00.171444Z",
          "iopub.status.busy": "2021-06-28T12:48:00.170745Z",
          "iopub.status.idle": "2021-06-28T12:48:00.496255Z",
          "shell.execute_reply": "2021-06-28T12:48:00.495555Z",
          "shell.execute_reply.started": "2021-06-28T12:40:59.722704Z"
        },
        "papermill": {
          "duration": 0.489041,
          "end_time": "2021-06-28T12:48:00.496402",
          "exception": false,
          "start_time": "2021-06-28T12:48:00.007361",
          "status": "completed"
        },
        "tags": [],
        "id": "motivated-master"
      },
      "outputs": [],
      "source": [
        "grid=sns.FacetGrid(hue='classification',aspect=2,data=kidney)\n",
        "grid.map(sns.kdeplot,'rc')\n",
        "grid.add_legend()"
      ]
    },
    {
      "cell_type": "code",
      "execution_count": null,
      "id": "capable-melissa",
      "metadata": {
        "execution": {
          "iopub.execute_input": "2021-06-28T12:48:01.003788Z",
          "iopub.status.busy": "2021-06-28T12:48:00.997937Z",
          "iopub.status.idle": "2021-06-28T12:48:01.338710Z",
          "shell.execute_reply": "2021-06-28T12:48:01.339234Z",
          "shell.execute_reply.started": "2021-06-28T12:41:00.083538Z"
        },
        "papermill": {
          "duration": 0.481346,
          "end_time": "2021-06-28T12:48:01.339409",
          "exception": false,
          "start_time": "2021-06-28T12:48:00.858063",
          "status": "completed"
        },
        "tags": [],
        "id": "capable-melissa"
      },
      "outputs": [],
      "source": [
        "grid=sns.FacetGrid(kidney,hue='classification',aspect=2)\n",
        "grid.map(sns.kdeplot,'hemo')\n",
        "grid.add_legend()"
      ]
    },
    {
      "cell_type": "code",
      "execution_count": null,
      "id": "unique-handy",
      "metadata": {
        "execution": {
          "iopub.execute_input": "2021-06-28T12:48:01.674949Z",
          "iopub.status.busy": "2021-06-28T12:48:01.671404Z",
          "iopub.status.idle": "2021-06-28T12:48:01.921544Z",
          "shell.execute_reply": "2021-06-28T12:48:01.920869Z",
          "shell.execute_reply.started": "2021-06-28T12:41:00.417617Z"
        },
        "papermill": {
          "duration": 0.458277,
          "end_time": "2021-06-28T12:48:01.921686",
          "exception": false,
          "start_time": "2021-06-28T12:48:01.463409",
          "status": "completed"
        },
        "tags": [],
        "id": "unique-handy"
      },
      "outputs": [],
      "source": [
        "plt.figure(figsize=(12,10))\n",
        "sns.scatterplot(x=kidney['rc'],y=kidney['pcv'],hue=kidney['classification'])\n",
        "plt.xlabel('red blood cell count')\n",
        "plt.ylabel('packed cell volume')\n",
        "plt.title('Relationship between red blood cell count and packed cell volume')\n"
      ]
    },
    {
      "cell_type": "code",
      "execution_count": null,
      "id": "distributed-trinidad",
      "metadata": {
        "execution": {
          "iopub.execute_input": "2021-06-28T12:48:02.251969Z",
          "iopub.status.busy": "2021-06-28T12:48:02.220573Z",
          "iopub.status.idle": "2021-06-28T12:48:02.475230Z",
          "shell.execute_reply": "2021-06-28T12:48:02.475729Z",
          "shell.execute_reply.started": "2021-06-28T12:41:00.693447Z"
        },
        "papermill": {
          "duration": 0.42634,
          "end_time": "2021-06-28T12:48:02.475899",
          "exception": false,
          "start_time": "2021-06-28T12:48:02.049559",
          "status": "completed"
        },
        "tags": [],
        "id": "distributed-trinidad"
      },
      "outputs": [],
      "source": [
        "plt.figure(figsize=(12,10))\n",
        "sns.scatterplot(x=kidney['rc'],y=kidney['hemo'],hue=kidney['classification'])\n",
        "plt.xlabel('red blood cell count')\n",
        "plt.ylabel('haemoglobin')\n",
        "plt.title('Relationship between haemoglobin and red blood cell count')"
      ]
    },
    {
      "cell_type": "code",
      "execution_count": null,
      "id": "fossil-deadline",
      "metadata": {
        "execution": {
          "iopub.execute_input": "2021-06-28T12:48:03.257072Z",
          "iopub.status.busy": "2021-06-28T12:48:03.256383Z",
          "iopub.status.idle": "2021-06-28T12:48:03.265865Z",
          "shell.execute_reply": "2021-06-28T12:48:03.265288Z",
          "shell.execute_reply.started": "2021-06-28T12:41:00.978400Z"
        },
        "papermill": {
          "duration": 0.141225,
          "end_time": "2021-06-28T12:48:03.266034",
          "exception": false,
          "start_time": "2021-06-28T12:48:03.124809",
          "status": "completed"
        },
        "tags": [],
        "id": "fossil-deadline"
      },
      "outputs": [],
      "source": [
        "kidney.isnull().sum()"
      ]
    },
    {
      "cell_type": "code",
      "execution_count": null,
      "id": "liquid-running",
      "metadata": {
        "execution": {
          "iopub.execute_input": "2021-06-28T12:48:03.532663Z",
          "iopub.status.busy": "2021-06-28T12:48:03.531797Z",
          "iopub.status.idle": "2021-06-28T12:48:03.535222Z",
          "shell.execute_reply": "2021-06-28T12:48:03.535657Z",
          "shell.execute_reply.started": "2021-06-28T12:41:00.988972Z"
        },
        "papermill": {
          "duration": 0.140283,
          "end_time": "2021-06-28T12:48:03.535828",
          "exception": false,
          "start_time": "2021-06-28T12:48:03.395545",
          "status": "completed"
        },
        "tags": [],
        "id": "liquid-running"
      },
      "outputs": [],
      "source": [
        "kidney.isnull().sum().sort_values(ascending=False)"
      ]
    },
    {
      "cell_type": "code",
      "execution_count": null,
      "id": "usual-volleyball",
      "metadata": {
        "execution": {
          "iopub.execute_input": "2021-06-28T12:48:04.056271Z",
          "iopub.status.busy": "2021-06-28T12:48:04.055579Z",
          "iopub.status.idle": "2021-06-28T12:48:04.190640Z",
          "shell.execute_reply": "2021-06-28T12:48:04.191132Z",
          "shell.execute_reply.started": "2021-06-28T12:41:01.009390Z"
        },
        "papermill": {
          "duration": 0.267222,
          "end_time": "2021-06-28T12:48:04.191319",
          "exception": false,
          "start_time": "2021-06-28T12:48:03.924097",
          "status": "completed"
        },
        "tags": [],
        "id": "usual-volleyball"
      },
      "outputs": [],
      "source": [
        "plt.subplot(1,2,1)\n",
        "sns.boxplot(x=kidney['classification'],y=kidney['age'])"
      ]
    },
    {
      "cell_type": "code",
      "execution_count": null,
      "id": "eight-paint",
      "metadata": {
        "execution": {
          "iopub.execute_input": "2021-06-28T12:48:04.453060Z",
          "iopub.status.busy": "2021-06-28T12:48:04.452407Z",
          "iopub.status.idle": "2021-06-28T12:48:04.459383Z",
          "shell.execute_reply": "2021-06-28T12:48:04.458840Z",
          "shell.execute_reply.started": "2021-06-28T12:41:01.147817Z"
        },
        "papermill": {
          "duration": 0.138685,
          "end_time": "2021-06-28T12:48:04.459529",
          "exception": false,
          "start_time": "2021-06-28T12:48:04.320844",
          "status": "completed"
        },
        "tags": [],
        "id": "eight-paint"
      },
      "outputs": [],
      "source": [
        "list(enumerate(cat_col))"
      ]
    },
    {
      "cell_type": "code",
      "execution_count": null,
      "id": "promising-luxembourg",
      "metadata": {
        "execution": {
          "iopub.execute_input": "2021-06-28T12:48:04.752367Z",
          "iopub.status.busy": "2021-06-28T12:48:04.749889Z",
          "iopub.status.idle": "2021-06-28T12:48:06.740010Z",
          "shell.execute_reply": "2021-06-28T12:48:06.739086Z",
          "shell.execute_reply.started": "2021-06-28T12:41:01.158629Z"
        },
        "papermill": {
          "duration": 2.151171,
          "end_time": "2021-06-28T12:48:06.740170",
          "exception": false,
          "start_time": "2021-06-28T12:48:04.588999",
          "status": "completed"
        },
        "tags": [],
        "id": "promising-luxembourg"
      },
      "outputs": [],
      "source": [
        "plt.figure(figsize=(15,15))\n",
        "for i in enumerate(num_col):\n",
        "    plt.subplot(4,4,i[0]+1)\n",
        "    sns.boxplot(x=kidney['classification'],y=i[1],data=kidney.reset_index())"
      ]
    },
    {
      "cell_type": "code",
      "execution_count": null,
      "id": "technological-blackjack",
      "metadata": {
        "execution": {
          "iopub.execute_input": "2021-06-28T12:48:07.321941Z",
          "iopub.status.busy": "2021-06-28T12:48:07.321145Z",
          "iopub.status.idle": "2021-06-28T12:48:07.325008Z",
          "shell.execute_reply": "2021-06-28T12:48:07.324425Z",
          "shell.execute_reply.started": "2021-06-28T12:41:03.095135Z"
        },
        "papermill": {
          "duration": 0.145735,
          "end_time": "2021-06-28T12:48:07.325167",
          "exception": false,
          "start_time": "2021-06-28T12:48:07.179432",
          "status": "completed"
        },
        "tags": [],
        "id": "technological-blackjack"
      },
      "outputs": [],
      "source": [
        "np.mean(kidney)"
      ]
    },
    {
      "cell_type": "code",
      "execution_count": null,
      "id": "defined-conditions",
      "metadata": {
        "execution": {
          "iopub.execute_input": "2021-06-28T12:48:07.608770Z",
          "iopub.status.busy": "2021-06-28T12:48:07.608120Z",
          "iopub.status.idle": "2021-06-28T12:48:07.611875Z",
          "shell.execute_reply": "2021-06-28T12:48:07.611332Z",
          "shell.execute_reply.started": "2021-06-28T12:41:03.119807Z"
        },
        "papermill": {
          "duration": 0.143208,
          "end_time": "2021-06-28T12:48:07.612030",
          "exception": false,
          "start_time": "2021-06-28T12:48:07.468822",
          "status": "completed"
        },
        "tags": [],
        "id": "defined-conditions"
      },
      "outputs": [],
      "source": [
        "kidney.isnull().sum()"
      ]
    },
    {
      "cell_type": "code",
      "execution_count": null,
      "id": "pressing-efficiency",
      "metadata": {
        "execution": {
          "iopub.execute_input": "2021-06-28T12:48:07.880345Z",
          "iopub.status.busy": "2021-06-28T12:48:07.879698Z",
          "iopub.status.idle": "2021-06-28T12:48:07.888068Z",
          "shell.execute_reply": "2021-06-28T12:48:07.888620Z",
          "shell.execute_reply.started": "2021-06-28T12:41:03.133136Z"
        },
        "papermill": {
          "duration": 0.144546,
          "end_time": "2021-06-28T12:48:07.888840",
          "exception": false,
          "start_time": "2021-06-28T12:48:07.744294",
          "status": "completed"
        },
        "tags": [],
        "id": "pressing-efficiency"
      },
      "outputs": [],
      "source": [
        "for i in num_col:\n",
        "    kidney[i].fillna(kidney[i].median(),inplace=True)"
      ]
    },
    {
      "cell_type": "code",
      "execution_count": null,
      "id": "floating-judgment",
      "metadata": {
        "execution": {
          "iopub.execute_input": "2021-06-28T12:48:08.165499Z",
          "iopub.status.busy": "2021-06-28T12:48:08.164810Z",
          "iopub.status.idle": "2021-06-28T12:48:08.172973Z",
          "shell.execute_reply": "2021-06-28T12:48:08.173577Z",
          "shell.execute_reply.started": "2021-06-28T12:41:03.149220Z"
        },
        "papermill": {
          "duration": 0.151757,
          "end_time": "2021-06-28T12:48:08.173745",
          "exception": false,
          "start_time": "2021-06-28T12:48:08.021988",
          "status": "completed"
        },
        "tags": [],
        "id": "floating-judgment"
      },
      "outputs": [],
      "source": [
        "kidney.isnull().sum()"
      ]
    },
    {
      "cell_type": "code",
      "execution_count": null,
      "id": "complicated-foster",
      "metadata": {
        "execution": {
          "iopub.execute_input": "2021-06-28T12:48:08.440785Z",
          "iopub.status.busy": "2021-06-28T12:48:08.440168Z",
          "iopub.status.idle": "2021-06-28T12:48:08.495688Z",
          "shell.execute_reply": "2021-06-28T12:48:08.496147Z",
          "shell.execute_reply.started": "2021-06-28T12:41:03.166482Z"
        },
        "papermill": {
          "duration": 0.190612,
          "end_time": "2021-06-28T12:48:08.496322",
          "exception": false,
          "start_time": "2021-06-28T12:48:08.305710",
          "status": "completed"
        },
        "tags": [],
        "id": "complicated-foster"
      },
      "outputs": [],
      "source": [
        "kidney.describe()"
      ]
    },
    {
      "cell_type": "code",
      "execution_count": null,
      "id": "silent-mirror",
      "metadata": {
        "execution": {
          "iopub.execute_input": "2021-06-28T12:48:09.038337Z",
          "iopub.status.busy": "2021-06-28T12:48:09.037313Z",
          "iopub.status.idle": "2021-06-28T12:48:09.041564Z",
          "shell.execute_reply": "2021-06-28T12:48:09.041058Z",
          "shell.execute_reply.started": "2021-06-28T12:41:03.223885Z"
        },
        "papermill": {
          "duration": 0.14526,
          "end_time": "2021-06-28T12:48:09.041706",
          "exception": false,
          "start_time": "2021-06-28T12:48:08.896446",
          "status": "completed"
        },
        "tags": [],
        "id": "silent-mirror"
      },
      "outputs": [],
      "source": [
        "kidney['rbc'].isnull().sum()"
      ]
    },
    {
      "cell_type": "code",
      "execution_count": null,
      "id": "adaptive-happiness",
      "metadata": {
        "execution": {
          "iopub.execute_input": "2021-06-28T12:48:09.318679Z",
          "iopub.status.busy": "2021-06-28T12:48:09.317950Z",
          "iopub.status.idle": "2021-06-28T12:48:09.321366Z",
          "shell.execute_reply": "2021-06-28T12:48:09.320815Z",
          "shell.execute_reply.started": "2021-06-28T12:41:03.234458Z"
        },
        "papermill": {
          "duration": 0.143791,
          "end_time": "2021-06-28T12:48:09.321518",
          "exception": false,
          "start_time": "2021-06-28T12:48:09.177727",
          "status": "completed"
        },
        "tags": [],
        "id": "adaptive-happiness"
      },
      "outputs": [],
      "source": [
        "random_sample=kidney['rbc'].dropna().sample(152)"
      ]
    },
    {
      "cell_type": "code",
      "execution_count": null,
      "id": "straight-detail",
      "metadata": {
        "execution": {
          "iopub.execute_input": "2021-06-28T12:48:09.597573Z",
          "iopub.status.busy": "2021-06-28T12:48:09.596754Z",
          "iopub.status.idle": "2021-06-28T12:48:09.600123Z",
          "shell.execute_reply": "2021-06-28T12:48:09.600671Z",
          "shell.execute_reply.started": "2021-06-28T12:41:03.245981Z"
        },
        "papermill": {
          "duration": 0.145429,
          "end_time": "2021-06-28T12:48:09.600840",
          "exception": false,
          "start_time": "2021-06-28T12:48:09.455411",
          "status": "completed"
        },
        "tags": [],
        "id": "straight-detail"
      },
      "outputs": [],
      "source": [
        "random_sample"
      ]
    },
    {
      "cell_type": "code",
      "execution_count": null,
      "id": "9c9bca52",
      "metadata": {
        "id": "9c9bca52"
      },
      "outputs": [],
      "source": [
        "kidney.describe()"
      ]
    },
    {
      "cell_type": "code",
      "execution_count": null,
      "id": "grave-congo",
      "metadata": {
        "execution": {
          "iopub.execute_input": "2021-06-28T12:48:09.874107Z",
          "iopub.status.busy": "2021-06-28T12:48:09.873044Z",
          "iopub.status.idle": "2021-06-28T12:48:09.880251Z",
          "shell.execute_reply": "2021-06-28T12:48:09.880727Z",
          "shell.execute_reply.started": "2021-06-28T12:41:03.262534Z"
        },
        "papermill": {
          "duration": 0.14658,
          "end_time": "2021-06-28T12:48:09.880944",
          "exception": false,
          "start_time": "2021-06-28T12:48:09.734364",
          "status": "completed"
        },
        "tags": [],
        "id": "grave-congo"
      },
      "outputs": [],
      "source": [
        "kidney[kidney['rbc'].isnull()].index"
      ]
    },
    {
      "cell_type": "code",
      "execution_count": null,
      "id": "considerable-meter",
      "metadata": {
        "execution": {
          "iopub.execute_input": "2021-06-28T12:48:10.154900Z",
          "iopub.status.busy": "2021-06-28T12:48:10.154191Z",
          "iopub.status.idle": "2021-06-28T12:48:10.159693Z",
          "shell.execute_reply": "2021-06-28T12:48:10.160155Z",
          "shell.execute_reply.started": "2021-06-28T12:41:03.279039Z"
        },
        "papermill": {
          "duration": 0.14487,
          "end_time": "2021-06-28T12:48:10.160326",
          "exception": false,
          "start_time": "2021-06-28T12:48:10.015456",
          "status": "completed"
        },
        "tags": [],
        "id": "considerable-meter"
      },
      "outputs": [],
      "source": [
        "random_sample.index"
      ]
    },
    {
      "cell_type": "code",
      "execution_count": null,
      "id": "native-grave",
      "metadata": {
        "execution": {
          "iopub.execute_input": "2021-06-28T12:48:10.700176Z",
          "iopub.status.busy": "2021-06-28T12:48:10.699185Z",
          "iopub.status.idle": "2021-06-28T12:48:10.704227Z",
          "shell.execute_reply": "2021-06-28T12:48:10.704677Z",
          "shell.execute_reply.started": "2021-06-28T12:41:03.290866Z"
        },
        "papermill": {
          "duration": 0.142562,
          "end_time": "2021-06-28T12:48:10.704850",
          "exception": false,
          "start_time": "2021-06-28T12:48:10.562288",
          "status": "completed"
        },
        "tags": [],
        "id": "native-grave"
      },
      "outputs": [],
      "source": [
        "random_sample.index=kidney[kidney['rbc'].isnull()].index    #in this way index will be equal"
      ]
    },
    {
      "cell_type": "code",
      "execution_count": null,
      "id": "gross-forest",
      "metadata": {
        "execution": {
          "iopub.execute_input": "2021-06-28T12:48:10.978583Z",
          "iopub.status.busy": "2021-06-28T12:48:10.977613Z",
          "iopub.status.idle": "2021-06-28T12:48:10.984455Z",
          "shell.execute_reply": "2021-06-28T12:48:10.983901Z",
          "shell.execute_reply.started": "2021-06-28T12:41:03.303622Z"
        },
        "papermill": {
          "duration": 0.14525,
          "end_time": "2021-06-28T12:48:10.984594",
          "exception": false,
          "start_time": "2021-06-28T12:48:10.839344",
          "status": "completed"
        },
        "tags": [],
        "id": "gross-forest"
      },
      "outputs": [],
      "source": [
        "random_sample.index"
      ]
    },
    {
      "cell_type": "code",
      "execution_count": null,
      "id": "literary-jackson",
      "metadata": {
        "execution": {
          "iopub.execute_input": "2021-06-28T12:48:11.260823Z",
          "iopub.status.busy": "2021-06-28T12:48:11.259837Z",
          "iopub.status.idle": "2021-06-28T12:48:11.265178Z",
          "shell.execute_reply": "2021-06-28T12:48:11.265619Z",
          "shell.execute_reply.started": "2021-06-28T12:41:03.318890Z"
        },
        "papermill": {
          "duration": 0.145334,
          "end_time": "2021-06-28T12:48:11.265807",
          "exception": false,
          "start_time": "2021-06-28T12:48:11.120473",
          "status": "completed"
        },
        "tags": [],
        "id": "literary-jackson"
      },
      "outputs": [],
      "source": [
        "kidney.loc[kidney['rbc'].isnull(),'rbc']=random_sample"
      ]
    },
    {
      "cell_type": "code",
      "execution_count": null,
      "id": "refined-pacific",
      "metadata": {
        "execution": {
          "iopub.execute_input": "2021-06-28T12:48:11.540804Z",
          "iopub.status.busy": "2021-06-28T12:48:11.539857Z",
          "iopub.status.idle": "2021-06-28T12:48:11.574282Z",
          "shell.execute_reply": "2021-06-28T12:48:11.573583Z",
          "shell.execute_reply.started": "2021-06-28T12:41:03.331241Z"
        },
        "papermill": {
          "duration": 0.173703,
          "end_time": "2021-06-28T12:48:11.574432",
          "exception": false,
          "start_time": "2021-06-28T12:48:11.400729",
          "status": "completed"
        },
        "tags": [],
        "id": "refined-pacific"
      },
      "outputs": [],
      "source": [
        "kidney.head()"
      ]
    },
    {
      "cell_type": "code",
      "execution_count": null,
      "id": "essential-cancer",
      "metadata": {
        "execution": {
          "iopub.execute_input": "2021-06-28T12:48:11.863347Z",
          "iopub.status.busy": "2021-06-28T12:48:11.862622Z",
          "iopub.status.idle": "2021-06-28T12:48:11.865353Z",
          "shell.execute_reply": "2021-06-28T12:48:11.865823Z",
          "shell.execute_reply.started": "2021-06-28T12:41:03.374336Z"
        },
        "papermill": {
          "duration": 0.144357,
          "end_time": "2021-06-28T12:48:11.866004",
          "exception": false,
          "start_time": "2021-06-28T12:48:11.721647",
          "status": "completed"
        },
        "tags": [],
        "id": "essential-cancer"
      },
      "outputs": [],
      "source": [
        "kidney['rbc'].isnull().sum()"
      ]
    },
    {
      "cell_type": "code",
      "execution_count": null,
      "id": "verbal-battery",
      "metadata": {
        "execution": {
          "iopub.execute_input": "2021-06-28T12:48:12.143458Z",
          "iopub.status.busy": "2021-06-28T12:48:12.142758Z",
          "iopub.status.idle": "2021-06-28T12:48:12.264108Z",
          "shell.execute_reply": "2021-06-28T12:48:12.264586Z",
          "shell.execute_reply.started": "2021-06-28T12:41:03.388895Z"
        },
        "papermill": {
          "duration": 0.263807,
          "end_time": "2021-06-28T12:48:12.264765",
          "exception": false,
          "start_time": "2021-06-28T12:48:12.000958",
          "status": "completed"
        },
        "tags": [],
        "id": "verbal-battery"
      },
      "outputs": [],
      "source": [
        "sns.countplot(x=kidney['rbc'])       # checking that ratio didnt change after filling missing values"
      ]
    },
    {
      "cell_type": "code",
      "execution_count": null,
      "id": "organized-appeal",
      "metadata": {
        "execution": {
          "iopub.execute_input": "2021-06-28T12:48:12.819204Z",
          "iopub.status.busy": "2021-06-28T12:48:12.818413Z",
          "iopub.status.idle": "2021-06-28T12:48:12.823316Z",
          "shell.execute_reply": "2021-06-28T12:48:12.823822Z",
          "shell.execute_reply.started": "2021-06-28T12:41:03.513297Z"
        },
        "papermill": {
          "duration": 0.147546,
          "end_time": "2021-06-28T12:48:12.824022",
          "exception": false,
          "start_time": "2021-06-28T12:48:12.676476",
          "status": "completed"
        },
        "tags": [],
        "id": "organized-appeal"
      },
      "outputs": [],
      "source": [
        "#filling random values in all categorical columns\n",
        "def Random_value_Imputation(feature):\n",
        "    random_sample=kidney[feature].dropna().sample(kidney[feature].isnull().sum())\n",
        "    random_sample.index=kidney[kidney[feature].isnull()].index\n",
        "    kidney.loc[kidney[feature].isnull(),feature]=random_sample"
      ]
    },
    {
      "cell_type": "code",
      "execution_count": null,
      "id": "static-reserve",
      "metadata": {
        "execution": {
          "iopub.execute_input": "2021-06-28T12:48:13.110578Z",
          "iopub.status.busy": "2021-06-28T12:48:13.109840Z",
          "iopub.status.idle": "2021-06-28T12:48:13.116543Z",
          "shell.execute_reply": "2021-06-28T12:48:13.117106Z",
          "shell.execute_reply.started": "2021-06-28T12:41:03.522404Z"
        },
        "papermill": {
          "duration": 0.14982,
          "end_time": "2021-06-28T12:48:13.117284",
          "exception": false,
          "start_time": "2021-06-28T12:48:12.967464",
          "status": "completed"
        },
        "tags": [],
        "id": "static-reserve"
      },
      "outputs": [],
      "source": [
        "Random_value_Imputation('pc')     #only this column because it has higher no. of missing value"
      ]
    },
    {
      "cell_type": "code",
      "execution_count": null,
      "id": "acting-ordinary",
      "metadata": {
        "execution": {
          "iopub.execute_input": "2021-06-28T12:48:13.400219Z",
          "iopub.status.busy": "2021-06-28T12:48:13.399543Z",
          "iopub.status.idle": "2021-06-28T12:48:13.407584Z",
          "shell.execute_reply": "2021-06-28T12:48:13.408140Z",
          "shell.execute_reply.started": "2021-06-28T12:41:03.538308Z"
        },
        "papermill": {
          "duration": 0.150647,
          "end_time": "2021-06-28T12:48:13.408315",
          "exception": false,
          "start_time": "2021-06-28T12:48:13.257668",
          "status": "completed"
        },
        "tags": [],
        "id": "acting-ordinary"
      },
      "outputs": [],
      "source": [
        "kidney.isnull().sum()"
      ]
    },
    {
      "cell_type": "code",
      "execution_count": null,
      "id": "standing-shoulder",
      "metadata": {
        "execution": {
          "iopub.execute_input": "2021-06-28T12:48:13.974247Z",
          "iopub.status.busy": "2021-06-28T12:48:13.973536Z",
          "iopub.status.idle": "2021-06-28T12:48:13.977585Z",
          "shell.execute_reply": "2021-06-28T12:48:13.978159Z",
          "shell.execute_reply.started": "2021-06-28T12:41:03.558575Z"
        },
        "papermill": {
          "duration": 0.148233,
          "end_time": "2021-06-28T12:48:13.978339",
          "exception": false,
          "start_time": "2021-06-28T12:48:13.830106",
          "status": "completed"
        },
        "tags": [],
        "id": "standing-shoulder"
      },
      "outputs": [],
      "source": [
        "def impute_mode(feature):\n",
        "    mode=kidney[feature].mode()[0]\n",
        "    kidney[feature]=kidney[feature].fillna(mode)"
      ]
    },
    {
      "cell_type": "code",
      "execution_count": null,
      "id": "soviet-glory",
      "metadata": {
        "execution": {
          "iopub.execute_input": "2021-06-28T12:48:14.259369Z",
          "iopub.status.busy": "2021-06-28T12:48:14.258709Z",
          "iopub.status.idle": "2021-06-28T12:48:14.270530Z",
          "shell.execute_reply": "2021-06-28T12:48:14.271132Z",
          "shell.execute_reply.started": "2021-06-28T12:41:03.569500Z"
        },
        "papermill": {
          "duration": 0.15466,
          "end_time": "2021-06-28T12:48:14.271310",
          "exception": false,
          "start_time": "2021-06-28T12:48:14.116650",
          "status": "completed"
        },
        "tags": [],
        "id": "soviet-glory"
      },
      "outputs": [],
      "source": [
        "for col in cat_col:\n",
        "    impute_mode(col)"
      ]
    },
    {
      "cell_type": "code",
      "execution_count": null,
      "id": "funded-steps",
      "metadata": {
        "execution": {
          "iopub.execute_input": "2021-06-28T12:48:14.557756Z",
          "iopub.status.busy": "2021-06-28T12:48:14.557091Z",
          "iopub.status.idle": "2021-06-28T12:48:14.566716Z",
          "shell.execute_reply": "2021-06-28T12:48:14.567206Z",
          "shell.execute_reply.started": "2021-06-28T12:41:03.590894Z"
        },
        "papermill": {
          "duration": 0.157575,
          "end_time": "2021-06-28T12:48:14.567398",
          "exception": false,
          "start_time": "2021-06-28T12:48:14.409823",
          "status": "completed"
        },
        "tags": [],
        "id": "funded-steps"
      },
      "outputs": [],
      "source": [
        "kidney[cat_col].isnull().sum()"
      ]
    },
    {
      "cell_type": "code",
      "execution_count": null,
      "id": "modular-spider",
      "metadata": {
        "execution": {
          "iopub.execute_input": "2021-06-28T12:48:14.856406Z",
          "iopub.status.busy": "2021-06-28T12:48:14.855475Z",
          "iopub.status.idle": "2021-06-28T12:48:14.864515Z",
          "shell.execute_reply": "2021-06-28T12:48:14.863827Z",
          "shell.execute_reply.started": "2021-06-28T12:41:03.608874Z"
        },
        "papermill": {
          "duration": 0.156986,
          "end_time": "2021-06-28T12:48:14.864674",
          "exception": false,
          "start_time": "2021-06-28T12:48:14.707688",
          "status": "completed"
        },
        "tags": [],
        "id": "modular-spider"
      },
      "outputs": [],
      "source": [
        "kidney.isnull().sum()"
      ]
    },
    {
      "cell_type": "code",
      "execution_count": null,
      "id": "minus-canada",
      "metadata": {
        "execution": {
          "iopub.execute_input": "2021-06-28T12:48:16.313825Z",
          "iopub.status.busy": "2021-06-28T12:48:16.313052Z",
          "iopub.status.idle": "2021-06-28T12:48:16.494367Z",
          "shell.execute_reply": "2021-06-28T12:48:16.493597Z",
          "shell.execute_reply.started": "2021-06-28T12:41:03.653739Z"
        },
        "papermill": {
          "duration": 0.326595,
          "end_time": "2021-06-28T12:48:16.494525",
          "exception": false,
          "start_time": "2021-06-28T12:48:16.167930",
          "status": "completed"
        },
        "tags": [],
        "id": "minus-canada"
      },
      "outputs": [],
      "source": [
        " from sklearn.preprocessing import LabelEncoder"
      ]
    },
    {
      "cell_type": "code",
      "execution_count": null,
      "id": "understanding-snowboard",
      "metadata": {
        "execution": {
          "iopub.execute_input": "2021-06-28T12:48:16.778431Z",
          "iopub.status.busy": "2021-06-28T12:48:16.777751Z",
          "iopub.status.idle": "2021-06-28T12:48:16.779997Z",
          "shell.execute_reply": "2021-06-28T12:48:16.780483Z",
          "shell.execute_reply.started": "2021-06-28T12:41:03.824485Z"
        },
        "papermill": {
          "duration": 0.145595,
          "end_time": "2021-06-28T12:48:16.780674",
          "exception": false,
          "start_time": "2021-06-28T12:48:16.635079",
          "status": "completed"
        },
        "tags": [],
        "id": "understanding-snowboard"
      },
      "outputs": [],
      "source": [
        "le=LabelEncoder()"
      ]
    },
    {
      "cell_type": "code",
      "execution_count": null,
      "id": "supported-adaptation",
      "metadata": {
        "execution": {
          "iopub.execute_input": "2021-06-28T12:48:17.063732Z",
          "iopub.status.busy": "2021-06-28T12:48:17.063088Z",
          "iopub.status.idle": "2021-06-28T12:48:17.072624Z",
          "shell.execute_reply": "2021-06-28T12:48:17.073120Z",
          "shell.execute_reply.started": "2021-06-28T12:41:03.830535Z"
        },
        "papermill": {
          "duration": 0.151038,
          "end_time": "2021-06-28T12:48:17.073309",
          "exception": false,
          "start_time": "2021-06-28T12:48:16.922271",
          "status": "completed"
        },
        "tags": [],
        "id": "supported-adaptation"
      },
      "outputs": [],
      "source": [
        "for col in cat_col:\n",
        "    kidney[col]=le.fit_transform(kidney[col])"
      ]
    },
    {
      "cell_type": "code",
      "execution_count": null,
      "id": "permanent-newton",
      "metadata": {
        "execution": {
          "iopub.execute_input": "2021-06-28T12:48:17.357168Z",
          "iopub.status.busy": "2021-06-28T12:48:17.356439Z",
          "iopub.status.idle": "2021-06-28T12:48:17.386843Z",
          "shell.execute_reply": "2021-06-28T12:48:17.386183Z",
          "shell.execute_reply.started": "2021-06-28T12:41:03.852025Z"
        },
        "papermill": {
          "duration": 0.172374,
          "end_time": "2021-06-28T12:48:17.387013",
          "exception": false,
          "start_time": "2021-06-28T12:48:17.214639",
          "status": "completed"
        },
        "tags": [],
        "id": "permanent-newton"
      },
      "outputs": [],
      "source": [
        "kidney.head()"
      ]
    },
    {
      "cell_type": "code",
      "source": [],
      "metadata": {
        "id": "EfgnIyGwQqTs"
      },
      "id": "EfgnIyGwQqTs",
      "execution_count": null,
      "outputs": []
    },
    {
      "cell_type": "code",
      "execution_count": null,
      "id": "identified-radio",
      "metadata": {
        "execution": {
          "iopub.execute_input": "2021-06-28T12:48:17.975735Z",
          "iopub.status.busy": "2021-06-28T12:48:17.974812Z",
          "iopub.status.idle": "2021-06-28T12:48:18.240507Z",
          "shell.execute_reply": "2021-06-28T12:48:18.241098Z",
          "shell.execute_reply.started": "2021-06-28T12:41:03.886250Z"
        },
        "papermill": {
          "duration": 0.43003,
          "end_time": "2021-06-28T12:48:18.241292",
          "exception": false,
          "start_time": "2021-06-28T12:48:17.811262",
          "status": "completed"
        },
        "tags": [],
        "id": "identified-radio"
      },
      "outputs": [],
      "source": [
        "from sklearn.feature_selection import SelectKBest"
      ]
    },
    {
      "cell_type": "code",
      "execution_count": null,
      "id": "furnished-snowboard",
      "metadata": {
        "execution": {
          "iopub.execute_input": "2021-06-28T12:48:18.523815Z",
          "iopub.status.busy": "2021-06-28T12:48:18.523153Z",
          "iopub.status.idle": "2021-06-28T12:48:18.526946Z",
          "shell.execute_reply": "2021-06-28T12:48:18.527481Z",
          "shell.execute_reply.started": "2021-06-28T12:41:04.130143Z"
        },
        "papermill": {
          "duration": 0.147029,
          "end_time": "2021-06-28T12:48:18.527656",
          "exception": false,
          "start_time": "2021-06-28T12:48:18.380627",
          "status": "completed"
        },
        "tags": [],
        "id": "furnished-snowboard"
      },
      "outputs": [],
      "source": [
        "from sklearn.feature_selection import chi2"
      ]
    },
    {
      "cell_type": "code",
      "execution_count": null,
      "id": "forced-stick",
      "metadata": {
        "execution": {
          "iopub.execute_input": "2021-06-28T12:48:18.809832Z",
          "iopub.status.busy": "2021-06-28T12:48:18.809141Z",
          "iopub.status.idle": "2021-06-28T12:48:18.813224Z",
          "shell.execute_reply": "2021-06-28T12:48:18.813800Z",
          "shell.execute_reply.started": "2021-06-28T12:41:04.137068Z"
        },
        "papermill": {
          "duration": 0.146016,
          "end_time": "2021-06-28T12:48:18.813999",
          "exception": false,
          "start_time": "2021-06-28T12:48:18.667983",
          "status": "completed"
        },
        "tags": [],
        "id": "forced-stick"
      },
      "outputs": [],
      "source": [
        "ind_col=[col for col in kidney.columns if col!='classification']\n",
        "dep_col='classification'"
      ]
    },
    {
      "cell_type": "code",
      "execution_count": null,
      "id": "inclusive-honduras",
      "metadata": {
        "execution": {
          "iopub.execute_input": "2021-06-28T12:48:19.098972Z",
          "iopub.status.busy": "2021-06-28T12:48:19.098266Z",
          "iopub.status.idle": "2021-06-28T12:48:19.103989Z",
          "shell.execute_reply": "2021-06-28T12:48:19.104569Z",
          "shell.execute_reply.started": "2021-06-28T12:41:04.151022Z"
        },
        "papermill": {
          "duration": 0.149108,
          "end_time": "2021-06-28T12:48:19.104759",
          "exception": false,
          "start_time": "2021-06-28T12:48:18.955651",
          "status": "completed"
        },
        "tags": [],
        "id": "inclusive-honduras"
      },
      "outputs": [],
      "source": [
        "X=kidney[ind_col]\n",
        "y=kidney[dep_col]"
      ]
    },
    {
      "cell_type": "code",
      "execution_count": null,
      "id": "charged-guatemala",
      "metadata": {
        "execution": {
          "iopub.execute_input": "2021-06-28T12:48:19.387986Z",
          "iopub.status.busy": "2021-06-28T12:48:19.387331Z",
          "iopub.status.idle": "2021-06-28T12:48:19.418773Z",
          "shell.execute_reply": "2021-06-28T12:48:19.417995Z",
          "shell.execute_reply.started": "2021-06-28T12:41:04.165475Z"
        },
        "papermill": {
          "duration": 0.172532,
          "end_time": "2021-06-28T12:48:19.418947",
          "exception": false,
          "start_time": "2021-06-28T12:48:19.246415",
          "status": "completed"
        },
        "tags": [],
        "id": "charged-guatemala"
      },
      "outputs": [],
      "source": [
        "X.head()"
      ]
    },
    {
      "cell_type": "code",
      "execution_count": null,
      "id": "stylish-matrix",
      "metadata": {
        "execution": {
          "iopub.execute_input": "2021-06-28T12:48:19.711259Z",
          "iopub.status.busy": "2021-06-28T12:48:19.710628Z",
          "iopub.status.idle": "2021-06-28T12:48:19.713965Z",
          "shell.execute_reply": "2021-06-28T12:48:19.714465Z",
          "shell.execute_reply.started": "2021-06-28T12:41:04.200208Z"
        },
        "papermill": {
          "duration": 0.153388,
          "end_time": "2021-06-28T12:48:19.714649",
          "exception": false,
          "start_time": "2021-06-28T12:48:19.561261",
          "status": "completed"
        },
        "tags": [],
        "id": "stylish-matrix"
      },
      "outputs": [],
      "source": [
        "imp_features=SelectKBest(score_func=chi2,k=20)"
      ]
    },
    {
      "cell_type": "code",
      "execution_count": null,
      "id": "falling-dayton",
      "metadata": {
        "execution": {
          "iopub.execute_input": "2021-06-28T12:48:20.002300Z",
          "iopub.status.busy": "2021-06-28T12:48:20.001635Z",
          "iopub.status.idle": "2021-06-28T12:48:20.013596Z",
          "shell.execute_reply": "2021-06-28T12:48:20.012851Z",
          "shell.execute_reply.started": "2021-06-28T12:41:04.212807Z"
        },
        "papermill": {
          "duration": 0.15682,
          "end_time": "2021-06-28T12:48:20.013741",
          "exception": false,
          "start_time": "2021-06-28T12:48:19.856921",
          "status": "completed"
        },
        "tags": [],
        "id": "falling-dayton"
      },
      "outputs": [],
      "source": [
        "imp_features=imp_features.fit(X,y)"
      ]
    },
    {
      "cell_type": "code",
      "execution_count": null,
      "id": "expensive-married",
      "metadata": {
        "execution": {
          "iopub.execute_input": "2021-06-28T12:48:20.307762Z",
          "iopub.status.busy": "2021-06-28T12:48:20.306875Z",
          "iopub.status.idle": "2021-06-28T12:48:20.314155Z",
          "shell.execute_reply": "2021-06-28T12:48:20.313613Z",
          "shell.execute_reply.started": "2021-06-28T12:41:04.232938Z"
        },
        "papermill": {
          "duration": 0.157645,
          "end_time": "2021-06-28T12:48:20.314300",
          "exception": false,
          "start_time": "2021-06-28T12:48:20.156655",
          "status": "completed"
        },
        "tags": [],
        "id": "expensive-married"
      },
      "outputs": [],
      "source": [
        "imp_features"
      ]
    },
    {
      "cell_type": "code",
      "execution_count": null,
      "id": "sized-denver",
      "metadata": {
        "execution": {
          "iopub.execute_input": "2021-06-28T12:48:20.602061Z",
          "iopub.status.busy": "2021-06-28T12:48:20.600971Z",
          "iopub.status.idle": "2021-06-28T12:48:20.605654Z",
          "shell.execute_reply": "2021-06-28T12:48:20.605018Z",
          "shell.execute_reply.started": "2021-06-28T12:41:04.244079Z"
        },
        "papermill": {
          "duration": 0.150983,
          "end_time": "2021-06-28T12:48:20.605799",
          "exception": false,
          "start_time": "2021-06-28T12:48:20.454816",
          "status": "completed"
        },
        "tags": [],
        "id": "sized-denver"
      },
      "outputs": [],
      "source": [
        "imp_features.scores_"
      ]
    },
    {
      "cell_type": "code",
      "execution_count": null,
      "id": "known-suite",
      "metadata": {
        "execution": {
          "iopub.execute_input": "2021-06-28T12:48:20.900795Z",
          "iopub.status.busy": "2021-06-28T12:48:20.900137Z",
          "iopub.status.idle": "2021-06-28T12:48:20.903848Z",
          "shell.execute_reply": "2021-06-28T12:48:20.903305Z",
          "shell.execute_reply.started": "2021-06-28T12:41:04.254734Z"
        },
        "papermill": {
          "duration": 0.156141,
          "end_time": "2021-06-28T12:48:20.904012",
          "exception": false,
          "start_time": "2021-06-28T12:48:20.747871",
          "status": "completed"
        },
        "tags": [],
        "id": "known-suite"
      },
      "outputs": [],
      "source": [
        "datascore=pd.DataFrame(imp_features.scores_,columns=['Score'])"
      ]
    },
    {
      "cell_type": "code",
      "execution_count": null,
      "id": "narrow-calculation",
      "metadata": {
        "execution": {
          "iopub.execute_input": "2021-06-28T12:48:21.204763Z",
          "iopub.status.busy": "2021-06-28T12:48:21.201017Z",
          "iopub.status.idle": "2021-06-28T12:48:21.209902Z",
          "shell.execute_reply": "2021-06-28T12:48:21.209282Z",
          "shell.execute_reply.started": "2021-06-28T12:41:04.270031Z"
        },
        "papermill": {
          "duration": 0.161023,
          "end_time": "2021-06-28T12:48:21.210066",
          "exception": false,
          "start_time": "2021-06-28T12:48:21.049043",
          "status": "completed"
        },
        "tags": [],
        "id": "narrow-calculation"
      },
      "outputs": [],
      "source": [
        "datascore"
      ]
    },
    {
      "cell_type": "code",
      "execution_count": null,
      "id": "surface-iraqi",
      "metadata": {
        "execution": {
          "iopub.execute_input": "2021-06-28T12:48:21.507761Z",
          "iopub.status.busy": "2021-06-28T12:48:21.506728Z",
          "iopub.status.idle": "2021-06-28T12:48:21.511778Z",
          "shell.execute_reply": "2021-06-28T12:48:21.511281Z",
          "shell.execute_reply.started": "2021-06-28T12:41:04.288921Z"
        },
        "papermill": {
          "duration": 0.15813,
          "end_time": "2021-06-28T12:48:21.511945",
          "exception": false,
          "start_time": "2021-06-28T12:48:21.353815",
          "status": "completed"
        },
        "tags": [],
        "id": "surface-iraqi"
      },
      "outputs": [],
      "source": [
        "X.columns"
      ]
    },
    {
      "cell_type": "code",
      "execution_count": null,
      "id": "ultimate-digit",
      "metadata": {
        "execution": {
          "iopub.execute_input": "2021-06-28T12:48:21.802291Z",
          "iopub.status.busy": "2021-06-28T12:48:21.801595Z",
          "iopub.status.idle": "2021-06-28T12:48:21.805361Z",
          "shell.execute_reply": "2021-06-28T12:48:21.804786Z",
          "shell.execute_reply.started": "2021-06-28T12:41:04.304029Z"
        },
        "papermill": {
          "duration": 0.151777,
          "end_time": "2021-06-28T12:48:21.805507",
          "exception": false,
          "start_time": "2021-06-28T12:48:21.653730",
          "status": "completed"
        },
        "tags": [],
        "id": "ultimate-digit"
      },
      "outputs": [],
      "source": [
        "dfcols=pd.DataFrame(X.columns)"
      ]
    },
    {
      "cell_type": "code",
      "execution_count": null,
      "id": "boxed-singing",
      "metadata": {
        "execution": {
          "iopub.execute_input": "2021-06-28T12:48:22.099387Z",
          "iopub.status.busy": "2021-06-28T12:48:22.098376Z",
          "iopub.status.idle": "2021-06-28T12:48:22.103373Z",
          "shell.execute_reply": "2021-06-28T12:48:22.102760Z",
          "shell.execute_reply.started": "2021-06-28T12:41:04.314426Z"
        },
        "papermill": {
          "duration": 0.15645,
          "end_time": "2021-06-28T12:48:22.103525",
          "exception": false,
          "start_time": "2021-06-28T12:48:21.947075",
          "status": "completed"
        },
        "tags": [],
        "id": "boxed-singing"
      },
      "outputs": [],
      "source": [
        "dfcols"
      ]
    },
    {
      "cell_type": "code",
      "execution_count": null,
      "id": "fixed-interaction",
      "metadata": {
        "execution": {
          "iopub.execute_input": "2021-06-28T12:48:22.405171Z",
          "iopub.status.busy": "2021-06-28T12:48:22.404421Z",
          "iopub.status.idle": "2021-06-28T12:48:22.410188Z",
          "shell.execute_reply": "2021-06-28T12:48:22.409484Z",
          "shell.execute_reply.started": "2021-06-28T12:41:04.335046Z"
        },
        "papermill": {
          "duration": 0.16024,
          "end_time": "2021-06-28T12:48:22.410341",
          "exception": false,
          "start_time": "2021-06-28T12:48:22.250101",
          "status": "completed"
        },
        "tags": [],
        "id": "fixed-interaction"
      },
      "outputs": [],
      "source": [
        "features_rank=pd.concat([dfcols,datascore],axis=1)\n",
        "features_rank"
      ]
    },
    {
      "cell_type": "code",
      "execution_count": null,
      "id": "attempted-buffer",
      "metadata": {
        "execution": {
          "iopub.execute_input": "2021-06-28T12:48:22.714885Z",
          "iopub.status.busy": "2021-06-28T12:48:22.714260Z",
          "iopub.status.idle": "2021-06-28T12:48:22.717779Z",
          "shell.execute_reply": "2021-06-28T12:48:22.717271Z",
          "shell.execute_reply.started": "2021-06-28T12:41:04.357461Z"
        },
        "papermill": {
          "duration": 0.152492,
          "end_time": "2021-06-28T12:48:22.717936",
          "exception": false,
          "start_time": "2021-06-28T12:48:22.565444",
          "status": "completed"
        },
        "tags": [],
        "id": "attempted-buffer"
      },
      "outputs": [],
      "source": [
        "features_rank.columns=['features','score']"
      ]
    },
    {
      "cell_type": "code",
      "execution_count": null,
      "id": "civil-notification",
      "metadata": {
        "execution": {
          "iopub.execute_input": "2021-06-28T12:48:23.037319Z",
          "iopub.status.busy": "2021-06-28T12:48:23.036344Z",
          "iopub.status.idle": "2021-06-28T12:48:23.040746Z",
          "shell.execute_reply": "2021-06-28T12:48:23.041218Z",
          "shell.execute_reply.started": "2021-06-28T12:41:04.368120Z"
        },
        "papermill": {
          "duration": 0.180185,
          "end_time": "2021-06-28T12:48:23.041396",
          "exception": false,
          "start_time": "2021-06-28T12:48:22.861211",
          "status": "completed"
        },
        "tags": [],
        "id": "civil-notification"
      },
      "outputs": [],
      "source": [
        "features_rank"
      ]
    },
    {
      "cell_type": "code",
      "execution_count": null,
      "id": "recreational-helicopter",
      "metadata": {
        "execution": {
          "iopub.execute_input": "2021-06-28T12:48:23.366773Z",
          "iopub.status.busy": "2021-06-28T12:48:23.366032Z",
          "iopub.status.idle": "2021-06-28T12:48:23.370838Z",
          "shell.execute_reply": "2021-06-28T12:48:23.370297Z",
          "shell.execute_reply.started": "2021-06-28T12:41:04.389837Z"
        },
        "papermill": {
          "duration": 0.168258,
          "end_time": "2021-06-28T12:48:23.370997",
          "exception": false,
          "start_time": "2021-06-28T12:48:23.202739",
          "status": "completed"
        },
        "tags": [],
        "id": "recreational-helicopter"
      },
      "outputs": [],
      "source": [
        "features_rank.nlargest(10,'score')"
      ]
    },
    {
      "cell_type": "code",
      "execution_count": null,
      "id": "infectious-trance",
      "metadata": {
        "execution": {
          "iopub.execute_input": "2021-06-28T12:48:23.681408Z",
          "iopub.status.busy": "2021-06-28T12:48:23.680390Z",
          "iopub.status.idle": "2021-06-28T12:48:23.683646Z",
          "shell.execute_reply": "2021-06-28T12:48:23.683130Z",
          "shell.execute_reply.started": "2021-06-28T12:41:04.410280Z"
        },
        "papermill": {
          "duration": 0.167089,
          "end_time": "2021-06-28T12:48:23.683791",
          "exception": false,
          "start_time": "2021-06-28T12:48:23.516702",
          "status": "completed"
        },
        "tags": [],
        "id": "infectious-trance"
      },
      "outputs": [],
      "source": [
        "selected=features_rank.nlargest(10,'score')['features'].values"
      ]
    },
    {
      "cell_type": "code",
      "execution_count": null,
      "id": "intensive-robin",
      "metadata": {
        "execution": {
          "iopub.execute_input": "2021-06-28T12:48:23.977196Z",
          "iopub.status.busy": "2021-06-28T12:48:23.976281Z",
          "iopub.status.idle": "2021-06-28T12:48:23.980504Z",
          "shell.execute_reply": "2021-06-28T12:48:23.979997Z",
          "shell.execute_reply.started": "2021-06-28T12:41:04.421455Z"
        },
        "papermill": {
          "duration": 0.15323,
          "end_time": "2021-06-28T12:48:23.980649",
          "exception": false,
          "start_time": "2021-06-28T12:48:23.827419",
          "status": "completed"
        },
        "tags": [],
        "id": "intensive-robin"
      },
      "outputs": [],
      "source": [
        "selected"
      ]
    },
    {
      "cell_type": "code",
      "execution_count": null,
      "id": "emotional-despite",
      "metadata": {
        "execution": {
          "iopub.execute_input": "2021-06-28T12:48:24.277791Z",
          "iopub.status.busy": "2021-06-28T12:48:24.276798Z",
          "iopub.status.idle": "2021-06-28T12:48:24.279319Z",
          "shell.execute_reply": "2021-06-28T12:48:24.279812Z",
          "shell.execute_reply.started": "2021-06-28T12:41:04.432305Z"
        },
        "papermill": {
          "duration": 0.155419,
          "end_time": "2021-06-28T12:48:24.280005",
          "exception": false,
          "start_time": "2021-06-28T12:48:24.124586",
          "status": "completed"
        },
        "tags": [],
        "id": "emotional-despite"
      },
      "outputs": [],
      "source": [
        "X_new=kidney[selected]"
      ]
    },
    {
      "cell_type": "code",
      "execution_count": null,
      "id": "informal-trout",
      "metadata": {
        "execution": {
          "iopub.execute_input": "2021-06-28T12:48:24.569593Z",
          "iopub.status.busy": "2021-06-28T12:48:24.568523Z",
          "iopub.status.idle": "2021-06-28T12:48:24.590019Z",
          "shell.execute_reply": "2021-06-28T12:48:24.590556Z",
          "shell.execute_reply.started": "2021-06-28T12:41:04.443932Z"
        },
        "papermill": {
          "duration": 0.167844,
          "end_time": "2021-06-28T12:48:24.590728",
          "exception": false,
          "start_time": "2021-06-28T12:48:24.422884",
          "status": "completed"
        },
        "tags": [],
        "id": "informal-trout"
      },
      "outputs": [],
      "source": [
        "X_new.head()"
      ]
    },
    {
      "cell_type": "code",
      "source": [
        "X_new.dtypes\n",
        "# X_new['htn']"
      ],
      "metadata": {
        "id": "-GaxVqgRXofw"
      },
      "id": "-GaxVqgRXofw",
      "execution_count": null,
      "outputs": []
    },
    {
      "cell_type": "code",
      "source": [],
      "metadata": {
        "id": "xfWG306UXoSD"
      },
      "id": "xfWG306UXoSD",
      "execution_count": null,
      "outputs": []
    },
    {
      "cell_type": "code",
      "execution_count": null,
      "id": "prostate-recommendation",
      "metadata": {
        "execution": {
          "iopub.execute_input": "2021-06-28T12:48:24.882000Z",
          "iopub.status.busy": "2021-06-28T12:48:24.881040Z",
          "iopub.status.idle": "2021-06-28T12:48:24.886155Z",
          "shell.execute_reply": "2021-06-28T12:48:24.886632Z",
          "shell.execute_reply.started": "2021-06-28T12:41:04.473030Z"
        },
        "papermill": {
          "duration": 0.151899,
          "end_time": "2021-06-28T12:48:24.886798",
          "exception": false,
          "start_time": "2021-06-28T12:48:24.734899",
          "status": "completed"
        },
        "tags": [],
        "id": "prostate-recommendation"
      },
      "outputs": [],
      "source": [
        "len(X_new)"
      ]
    },
    {
      "cell_type": "code",
      "execution_count": null,
      "id": "electrical-process",
      "metadata": {
        "execution": {
          "iopub.execute_input": "2021-06-28T12:48:25.182374Z",
          "iopub.status.busy": "2021-06-28T12:48:25.181418Z",
          "iopub.status.idle": "2021-06-28T12:48:25.186532Z",
          "shell.execute_reply": "2021-06-28T12:48:25.186987Z",
          "shell.execute_reply.started": "2021-06-28T12:41:04.484969Z"
        },
        "papermill": {
          "duration": 0.154351,
          "end_time": "2021-06-28T12:48:25.187163",
          "exception": false,
          "start_time": "2021-06-28T12:48:25.032812",
          "status": "completed"
        },
        "tags": [],
        "id": "electrical-process"
      },
      "outputs": [],
      "source": [
        "X_new.shape"
      ]
    },
    {
      "cell_type": "code",
      "execution_count": null,
      "id": "circular-vertex",
      "metadata": {
        "execution": {
          "iopub.execute_input": "2021-06-28T12:48:25.480987Z",
          "iopub.status.busy": "2021-06-28T12:48:25.480044Z",
          "iopub.status.idle": "2021-06-28T12:48:25.484600Z",
          "shell.execute_reply": "2021-06-28T12:48:25.485072Z",
          "shell.execute_reply.started": "2021-06-28T12:41:04.496580Z"
        },
        "papermill": {
          "duration": 0.15172,
          "end_time": "2021-06-28T12:48:25.485259",
          "exception": false,
          "start_time": "2021-06-28T12:48:25.333539",
          "status": "completed"
        },
        "tags": [],
        "id": "circular-vertex"
      },
      "outputs": [],
      "source": [
        "from sklearn.model_selection import train_test_split"
      ]
    },
    {
      "cell_type": "code",
      "execution_count": null,
      "id": "nervous-passport",
      "metadata": {
        "execution": {
          "iopub.execute_input": "2021-06-28T12:48:25.782589Z",
          "iopub.status.busy": "2021-06-28T12:48:25.781888Z",
          "iopub.status.idle": "2021-06-28T12:48:25.785226Z",
          "shell.execute_reply": "2021-06-28T12:48:25.784651Z",
          "shell.execute_reply.started": "2021-06-28T12:41:04.508240Z"
        },
        "papermill": {
          "duration": 0.155596,
          "end_time": "2021-06-28T12:48:25.785390",
          "exception": false,
          "start_time": "2021-06-28T12:48:25.629794",
          "status": "completed"
        },
        "tags": [],
        "id": "nervous-passport"
      },
      "outputs": [],
      "source": [
        "X_train,X_test,y_train,y_test=train_test_split(X_new,y,random_state=0,test_size=0.3)"
      ]
    },
    {
      "cell_type": "code",
      "execution_count": null,
      "id": "annual-vermont",
      "metadata": {
        "execution": {
          "iopub.execute_input": "2021-06-28T12:48:26.083774Z",
          "iopub.status.busy": "2021-06-28T12:48:26.083135Z",
          "iopub.status.idle": "2021-06-28T12:48:26.087648Z",
          "shell.execute_reply": "2021-06-28T12:48:26.087110Z",
          "shell.execute_reply.started": "2021-06-28T12:41:04.523948Z"
        },
        "papermill": {
          "duration": 0.157729,
          "end_time": "2021-06-28T12:48:26.087787",
          "exception": false,
          "start_time": "2021-06-28T12:48:25.930058",
          "status": "completed"
        },
        "tags": [],
        "id": "annual-vermont"
      },
      "outputs": [],
      "source": [
        "X_train.shape"
      ]
    },
    {
      "cell_type": "code",
      "execution_count": null,
      "id": "starting-carter",
      "metadata": {
        "execution": {
          "iopub.execute_input": "2021-06-28T12:48:26.383748Z",
          "iopub.status.busy": "2021-06-28T12:48:26.383136Z",
          "iopub.status.idle": "2021-06-28T12:48:26.390415Z",
          "shell.execute_reply": "2021-06-28T12:48:26.390941Z",
          "shell.execute_reply.started": "2021-06-28T12:41:04.538318Z"
        },
        "papermill": {
          "duration": 0.15669,
          "end_time": "2021-06-28T12:48:26.391113",
          "exception": false,
          "start_time": "2021-06-28T12:48:26.234423",
          "status": "completed"
        },
        "tags": [],
        "id": "starting-carter"
      },
      "outputs": [],
      "source": [
        "y_train.value_counts()    #Checking for imbalancing"
      ]
    },
    {
      "cell_type": "code",
      "execution_count": null,
      "id": "advanced-winner",
      "metadata": {
        "execution": {
          "iopub.execute_input": "2021-06-28T12:48:27.310493Z",
          "iopub.status.busy": "2021-06-28T12:48:27.309813Z",
          "iopub.status.idle": "2021-06-28T12:48:27.591817Z",
          "shell.execute_reply": "2021-06-28T12:48:27.591232Z",
          "shell.execute_reply.started": "2021-06-28T12:41:04.554131Z"
        },
        "papermill": {
          "duration": 0.432283,
          "end_time": "2021-06-28T12:48:27.592003",
          "exception": false,
          "start_time": "2021-06-28T12:48:27.159720",
          "status": "completed"
        },
        "tags": [],
        "id": "advanced-winner"
      },
      "outputs": [],
      "source": [
        "from xgboost import XGBClassifier"
      ]
    },
    {
      "cell_type": "code",
      "execution_count": null,
      "id": "finished-forestry",
      "metadata": {
        "execution": {
          "iopub.execute_input": "2021-06-28T12:48:27.887550Z",
          "iopub.status.busy": "2021-06-28T12:48:27.886516Z",
          "iopub.status.idle": "2021-06-28T12:48:27.891704Z",
          "shell.execute_reply": "2021-06-28T12:48:27.892195Z",
          "shell.execute_reply.started": "2021-06-28T12:41:04.843345Z"
        },
        "papermill": {
          "duration": 0.156014,
          "end_time": "2021-06-28T12:48:27.892376",
          "exception": false,
          "start_time": "2021-06-28T12:48:27.736362",
          "status": "completed"
        },
        "tags": [],
        "id": "finished-forestry"
      },
      "outputs": [],
      "source": [
        "params={'learning-rate':[0,0.5,0.20,0.25],\n",
        "        'max_depth':[5,8,10],\n",
        "       'min_child_weight':[1,3,5,7],\n",
        "       'gamma':[0.0,0.1,0.2,0.4],\n",
        "       'colsample_bytree':[0.3,0.4,0.7]}"
      ]
    },
    {
      "cell_type": "code",
      "execution_count": null,
      "id": "abroad-washington",
      "metadata": {
        "execution": {
          "iopub.execute_input": "2021-06-28T12:48:28.194263Z",
          "iopub.status.busy": "2021-06-28T12:48:28.193169Z",
          "iopub.status.idle": "2021-06-28T12:48:28.196599Z",
          "shell.execute_reply": "2021-06-28T12:48:28.196031Z",
          "shell.execute_reply.started": "2021-06-28T12:41:04.850110Z"
        },
        "papermill": {
          "duration": 0.158171,
          "end_time": "2021-06-28T12:48:28.196750",
          "exception": false,
          "start_time": "2021-06-28T12:48:28.038579",
          "status": "completed"
        },
        "tags": [],
        "id": "abroad-washington"
      },
      "outputs": [],
      "source": [
        "from sklearn.model_selection import RandomizedSearchCV"
      ]
    },
    {
      "cell_type": "code",
      "execution_count": null,
      "id": "united-prescription",
      "metadata": {
        "execution": {
          "iopub.execute_input": "2021-06-28T12:48:28.494163Z",
          "iopub.status.busy": "2021-06-28T12:48:28.493403Z",
          "iopub.status.idle": "2021-06-28T12:48:28.496562Z",
          "shell.execute_reply": "2021-06-28T12:48:28.496039Z",
          "shell.execute_reply.started": "2021-06-28T12:41:04.863161Z"
        },
        "papermill": {
          "duration": 0.152337,
          "end_time": "2021-06-28T12:48:28.496713",
          "exception": false,
          "start_time": "2021-06-28T12:48:28.344376",
          "status": "completed"
        },
        "tags": [],
        "id": "united-prescription"
      },
      "outputs": [],
      "source": [
        "classifier=XGBClassifier()"
      ]
    },
    {
      "cell_type": "code",
      "execution_count": null,
      "id": "funky-municipality",
      "metadata": {
        "execution": {
          "iopub.execute_input": "2021-06-28T12:48:28.803997Z",
          "iopub.status.busy": "2021-06-28T12:48:28.803326Z",
          "iopub.status.idle": "2021-06-28T12:48:28.806476Z",
          "shell.execute_reply": "2021-06-28T12:48:28.805964Z",
          "shell.execute_reply.started": "2021-06-28T12:41:04.873995Z"
        },
        "papermill": {
          "duration": 0.161224,
          "end_time": "2021-06-28T12:48:28.806632",
          "exception": false,
          "start_time": "2021-06-28T12:48:28.645408",
          "status": "completed"
        },
        "tags": [],
        "id": "funky-municipality"
      },
      "outputs": [],
      "source": [
        "from time import time\n",
        "\n",
        "start_time=time()\n",
        "# random_search=RandomizedSearchCV(classifier,param_distributions=params,n_iter=5,scoring='roc_auc',n_jobs=-1,cv=5,verbose=3)\n",
        "random_search=RandomizedSearchCV(classifier,param_distributions=params,scoring='accuracy',n_jobs=-1)\n",
        "end_time=time()\n",
        "print(end_time-start_time)"
      ]
    },
    {
      "cell_type": "code",
      "execution_count": null,
      "id": "allied-charger",
      "metadata": {
        "execution": {
          "iopub.execute_input": "2021-06-28T12:48:29.134826Z",
          "iopub.status.busy": "2021-06-28T12:48:29.134164Z",
          "iopub.status.idle": "2021-06-28T12:50:28.084236Z",
          "shell.execute_reply": "2021-06-28T12:50:28.082676Z",
          "shell.execute_reply.started": "2021-06-28T12:41:04.886642Z"
        },
        "papermill": {
          "duration": 119.110986,
          "end_time": "2021-06-28T12:50:28.084501",
          "exception": false,
          "start_time": "2021-06-28T12:48:28.973515",
          "status": "completed"
        },
        "tags": [],
        "id": "allied-charger"
      },
      "outputs": [],
      "source": [
        "random_search.fit(X_train,y_train)"
      ]
    },
    {
      "cell_type": "code",
      "execution_count": null,
      "id": "positive-georgia",
      "metadata": {
        "execution": {
          "iopub.execute_input": "2021-06-28T12:50:28.397687Z",
          "iopub.status.busy": "2021-06-28T12:50:28.397016Z",
          "iopub.status.idle": "2021-06-28T12:50:28.405959Z",
          "shell.execute_reply": "2021-06-28T12:50:28.406486Z",
          "shell.execute_reply.started": "2021-06-28T12:42:45.916258Z"
        },
        "papermill": {
          "duration": 0.173237,
          "end_time": "2021-06-28T12:50:28.406665",
          "exception": false,
          "start_time": "2021-06-28T12:50:28.233428",
          "status": "completed"
        },
        "tags": [],
        "id": "positive-georgia"
      },
      "outputs": [],
      "source": [
        "random_search.best_estimator_    #Checking for best model"
      ]
    },
    {
      "cell_type": "code",
      "execution_count": null,
      "id": "weird-isaac",
      "metadata": {
        "execution": {
          "iopub.execute_input": "2021-06-28T12:50:28.718636Z",
          "iopub.status.busy": "2021-06-28T12:50:28.717867Z",
          "iopub.status.idle": "2021-06-28T12:50:28.724096Z",
          "shell.execute_reply": "2021-06-28T12:50:28.724673Z",
          "shell.execute_reply.started": "2021-06-28T12:42:45.928656Z"
        },
        "papermill": {
          "duration": 0.162494,
          "end_time": "2021-06-28T12:50:28.724858",
          "exception": false,
          "start_time": "2021-06-28T12:50:28.562364",
          "status": "completed"
        },
        "tags": [],
        "id": "weird-isaac"
      },
      "outputs": [],
      "source": [
        "random_search.best_params_"
      ]
    },
    {
      "cell_type": "code",
      "execution_count": null,
      "id": "becoming-custody",
      "metadata": {
        "execution": {
          "iopub.execute_input": "2021-06-28T12:50:29.030110Z",
          "iopub.status.busy": "2021-06-28T12:50:29.029383Z",
          "iopub.status.idle": "2021-06-28T12:50:29.036854Z",
          "shell.execute_reply": "2021-06-28T12:50:29.036231Z",
          "shell.execute_reply.started": "2021-06-28T12:42:45.938879Z"
        },
        "papermill": {
          "duration": 0.162596,
          "end_time": "2021-06-28T12:50:29.037053",
          "exception": false,
          "start_time": "2021-06-28T12:50:28.874457",
          "status": "completed"
        },
        "tags": [],
        "id": "becoming-custody"
      },
      "outputs": [],
      "source": [
        "classifier=XGBClassifier(base_score=0.5, booster='gbtree', colsample_bylevel=1,\n",
        "              colsample_bynode=1, colsample_bytree=0.3, gamma=0.2, gpu_id=-1,\n",
        "              importance_type='gain', interaction_constraints='', learning_rate=0.300000012, max_delta_step=0,\n",
        "              max_depth=5, min_child_weight=1,\n",
        "              monotone_constraints='()', n_estimators=100, n_jobs=8,\n",
        "              num_parallel_tree=1, random_state=0, reg_alpha=0, reg_lambda=1,\n",
        "              scale_pos_weight=1, subsample=1, tree_method='exact',\n",
        "              validate_parameters=1, verbosity=None)"
      ]
    },
    {
      "cell_type": "code",
      "execution_count": null,
      "id": "premier-daughter",
      "metadata": {
        "execution": {
          "iopub.execute_input": "2021-06-28T12:50:29.359290Z",
          "iopub.status.busy": "2021-06-28T12:50:29.358129Z",
          "iopub.status.idle": "2021-06-28T12:50:29.579683Z",
          "shell.execute_reply": "2021-06-28T12:50:29.578467Z",
          "shell.execute_reply.started": "2021-06-28T12:42:45.953874Z"
        },
        "papermill": {
          "duration": 0.383992,
          "end_time": "2021-06-28T12:50:29.579849",
          "exception": false,
          "start_time": "2021-06-28T12:50:29.195857",
          "status": "completed"
        },
        "tags": [],
        "id": "premier-daughter"
      },
      "outputs": [],
      "source": [
        "classifier.fit(X_train,y_train)"
      ]
    },
    {
      "cell_type": "code",
      "execution_count": null,
      "id": "tutorial-program",
      "metadata": {
        "execution": {
          "iopub.execute_input": "2021-06-28T12:50:30.235551Z",
          "iopub.status.busy": "2021-06-28T12:50:30.234350Z",
          "iopub.status.idle": "2021-06-28T12:50:30.240364Z",
          "shell.execute_reply": "2021-06-28T12:50:30.239503Z",
          "shell.execute_reply.started": "2021-06-28T12:42:46.132027Z"
        },
        "papermill": {
          "duration": 0.167994,
          "end_time": "2021-06-28T12:50:30.240530",
          "exception": false,
          "start_time": "2021-06-28T12:50:30.072536",
          "status": "completed"
        },
        "tags": [],
        "id": "tutorial-program"
      },
      "outputs": [],
      "source": [
        "\n",
        "y_pred=classifier.predict(X_test)\n",
        "y_pred"
      ]
    },
    {
      "cell_type": "code",
      "source": [],
      "metadata": {
        "id": "fdz7YXD2x5v3"
      },
      "id": "fdz7YXD2x5v3",
      "execution_count": null,
      "outputs": []
    },
    {
      "cell_type": "code",
      "source": [
        "# from sklearn.ensemble import RandomForestClassifier"
      ],
      "metadata": {
        "id": "mZQO8iKLx5c0"
      },
      "id": "mZQO8iKLx5c0",
      "execution_count": null,
      "outputs": []
    },
    {
      "cell_type": "code",
      "source": [
        "# rf = RandomForestClassifier(criterion=\"gini\", max_depth=8, min_samples_split=5, random_state=5, n_jobs=-1)\n",
        "# # rf = RandomForestClassifier()\n",
        "# rf.fit(X_train, y_train)"
      ],
      "metadata": {
        "id": "B4_sJ1x9x5Ig"
      },
      "id": "B4_sJ1x9x5Ig",
      "execution_count": null,
      "outputs": []
    },
    {
      "cell_type": "code",
      "execution_count": null,
      "id": "false-attachment",
      "metadata": {
        "execution": {
          "iopub.execute_input": "2021-06-28T12:50:30.553526Z",
          "iopub.status.busy": "2021-06-28T12:50:30.552459Z",
          "iopub.status.idle": "2021-06-28T12:50:30.556520Z",
          "shell.execute_reply": "2021-06-28T12:50:30.555985Z",
          "shell.execute_reply.started": "2021-06-28T12:42:46.143810Z"
        },
        "papermill": {
          "duration": 0.16216,
          "end_time": "2021-06-28T12:50:30.556662",
          "exception": false,
          "start_time": "2021-06-28T12:50:30.394502",
          "status": "completed"
        },
        "tags": [],
        "id": "false-attachment"
      },
      "outputs": [],
      "source": [
        "# y_pred=rf.predict(X_test)\n",
        "# y_pred"
      ]
    },
    {
      "cell_type": "code",
      "execution_count": null,
      "id": "precious-sustainability",
      "metadata": {
        "execution": {
          "iopub.execute_input": "2021-06-28T12:50:31.178556Z",
          "iopub.status.busy": "2021-06-28T12:50:31.177713Z",
          "iopub.status.idle": "2021-06-28T12:50:31.180999Z",
          "shell.execute_reply": "2021-06-28T12:50:31.180341Z",
          "shell.execute_reply.started": "2021-06-28T12:42:46.158777Z"
        },
        "papermill": {
          "duration": 0.16172,
          "end_time": "2021-06-28T12:50:31.181145",
          "exception": false,
          "start_time": "2021-06-28T12:50:31.019425",
          "status": "completed"
        },
        "tags": [],
        "id": "precious-sustainability"
      },
      "outputs": [],
      "source": [
        "from sklearn.metrics import confusion_matrix,accuracy_score"
      ]
    },
    {
      "cell_type": "code",
      "execution_count": null,
      "id": "absent-airport",
      "metadata": {
        "execution": {
          "iopub.execute_input": "2021-06-28T12:50:31.490378Z",
          "iopub.status.busy": "2021-06-28T12:50:31.488579Z",
          "iopub.status.idle": "2021-06-28T12:50:31.496344Z",
          "shell.execute_reply": "2021-06-28T12:50:31.495622Z",
          "shell.execute_reply.started": "2021-06-28T12:42:46.169706Z"
        },
        "papermill": {
          "duration": 0.163623,
          "end_time": "2021-06-28T12:50:31.496546",
          "exception": false,
          "start_time": "2021-06-28T12:50:31.332923",
          "status": "completed"
        },
        "tags": [],
        "id": "absent-airport"
      },
      "outputs": [],
      "source": [
        "confusion_matrix(y_test,y_pred)"
      ]
    },
    {
      "cell_type": "code",
      "execution_count": null,
      "id": "meaning-wholesale",
      "metadata": {
        "execution": {
          "iopub.execute_input": "2021-06-28T12:50:31.806499Z",
          "iopub.status.busy": "2021-06-28T12:50:31.805435Z",
          "iopub.status.idle": "2021-06-28T12:50:31.810045Z",
          "shell.execute_reply": "2021-06-28T12:50:31.809353Z",
          "shell.execute_reply.started": "2021-06-28T12:42:46.186038Z"
        },
        "papermill": {
          "duration": 0.162431,
          "end_time": "2021-06-28T12:50:31.810221",
          "exception": false,
          "start_time": "2021-06-28T12:50:31.647790",
          "status": "completed"
        },
        "tags": [],
        "id": "meaning-wholesale"
      },
      "outputs": [],
      "source": [
        "accuracy_score(y_test,y_pred)"
      ]
    },
    {
      "cell_type": "code",
      "source": [
        "## Pickle\n",
        "import pickle\n",
        " \n",
        "# save model\n",
        "pickle.dump(classifier, open('ckd_detector.pkl', 'wb'))\n",
        " \n",
        "# load model\n",
        "ckd_detector_model = pickle.load(open('ckd_detector.pkl', 'rb'))\n",
        " \n",
        "# predict the output\n",
        "Y_pred = ckd_detector_model.predict(X_test)"
      ],
      "metadata": {
        "id": "zDWqYptCDrBE"
      },
      "id": "zDWqYptCDrBE",
      "execution_count": null,
      "outputs": []
    },
    {
      "cell_type": "code",
      "source": [],
      "metadata": {
        "id": "Fh6Baio8XooY"
      },
      "id": "Fh6Baio8XooY",
      "execution_count": null,
      "outputs": []
    }
  ],
  "metadata": {
    "kernelspec": {
      "display_name": "Python 3",
      "language": "python",
      "name": "python3"
    },
    "language_info": {
      "codemirror_mode": {
        "name": "ipython",
        "version": 3
      },
      "file_extension": ".py",
      "mimetype": "text/x-python",
      "name": "python",
      "nbconvert_exporter": "python",
      "pygments_lexer": "ipython3",
      "version": "3.8.8"
    },
    "papermill": {
      "default_parameters": {},
      "duration": 179.238479,
      "end_time": "2021-06-28T12:50:34.309644",
      "environment_variables": {},
      "exception": null,
      "input_path": "__notebook__.ipynb",
      "output_path": "__notebook__.ipynb",
      "parameters": {},
      "start_time": "2021-06-28T12:47:35.071165",
      "version": "2.3.2"
    },
    "colab": {
      "provenance": [],
      "include_colab_link": true
    }
  },
  "nbformat": 4,
  "nbformat_minor": 5
}